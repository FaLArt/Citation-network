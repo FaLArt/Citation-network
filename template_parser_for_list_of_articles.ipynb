{
 "cells": [
  {
   "cell_type": "code",
   "execution_count": 2,
   "metadata": {},
   "outputs": [],
   "source": [
    "import bs4, requests, re"
   ]
  },
  {
   "cell_type": "code",
   "execution_count": null,
   "metadata": {},
   "outputs": [
    {
     "data": {
      "text/plain": [
       "'https://dl.acm.org/citation.cfm?id=1294904&preflayout=flat'"
      ]
     },
     "execution_count": 13,
     "metadata": {},
     "output_type": "execute_result"
    }
   ],
   "source": [
    "domain = 'https://dl.acm.org/'\n",
    "mode_layout = 'flat'\n",
    "proceeding_id = '1294904'\n",
    "headers = {'User-Agent': 'Mozilla/5.0 (Macintosh; Intel Mac OS X 10.9; rv:45.0) Gecko/20100101 Firefox/45.0'}\n",
    "\n",
    "proceeding = 'citation.cfm?id={0}&'.format(proceeding_id)\n",
    "parametrs = 'preflayout={0}'.format(mode_layout)\n",
    "\n",
    "url = domain + proceeding + parametrs\n",
    "\n",
    "url"
   ]
  },
  {
   "cell_type": "code",
   "execution_count": 14,
   "metadata": {},
   "outputs": [],
   "source": [
    "response = requests.get(url=url, headers=headers)\n",
    "soup = bs4.BeautifulSoup(response.text, 'lxml')"
   ]
  },
  {
   "cell_type": "code",
   "execution_count": 15,
   "metadata": {},
   "outputs": [
    {
     "data": {
      "text/plain": [
       "['1294905',\n",
       " '1294906',\n",
       " '1294907',\n",
       " '1294908',\n",
       " '1294958',\n",
       " '1294910',\n",
       " '1294911',\n",
       " '1294912',\n",
       " '1294913',\n",
       " '1294914',\n",
       " '1294915',\n",
       " '1294916']"
      ]
     },
     "execution_count": 15,
     "metadata": {},
     "output_type": "execute_result"
    }
   ],
   "source": [
    "article_ids = []\n",
    "\n",
    "layout = soup.find('div', {'class': 'layout'})\n",
    "table = layout.find('table', {'class': 'text12'})\n",
    "refs_for_articles = table.find_all(href=re.compile(r'citation.cfm\\?id=.*'))\n",
    "\n",
    "for a in refs_for_articles:\n",
    "    article_ids.append(a['href'].split('=')[-1])\n",
    "    \n",
    "article_ids\n"
   ]
  }
 ],
 "metadata": {
  "kernelspec": {
   "display_name": "Python 3",
   "language": "python",
   "name": "python3"
  },
  "language_info": {
   "codemirror_mode": {
    "name": "ipython",
    "version": 3
   },
   "file_extension": ".py",
   "mimetype": "text/x-python",
   "name": "python",
   "nbconvert_exporter": "python",
   "pygments_lexer": "ipython3",
   "version": "3.6.4"
  }
 },
 "nbformat": 4,
 "nbformat_minor": 2
}
