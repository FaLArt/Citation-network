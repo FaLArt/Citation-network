{
 "cells": [
  {
   "cell_type": "code",
   "execution_count": 4,
   "metadata": {},
   "outputs": [],
   "source": [
    "import bs4, requests, re"
   ]
  },
  {
   "cell_type": "code",
   "execution_count": 5,
   "metadata": {},
   "outputs": [
    {
     "data": {
      "text/plain": [
       "'https://dl.acm.org/citation.cfm?id=2666539&preflayout=flat'"
      ]
     },
     "execution_count": 5,
     "metadata": {},
     "output_type": "execute_result"
    }
   ],
   "source": [
    "domain = 'https://dl.acm.org/'\n",
    "mode_layout = 'flat'\n",
    "proceeding_id = '2666539'\n",
    "headers = {'User-Agent': 'Mozilla/5.0 (Macintosh; Intel Mac OS X 10.9; rv:45.0) Gecko/20100101 Firefox/45.0'}\n",
    "\n",
    "proceeding = 'citation.cfm?id={0}&'.format(proceeding_id)\n",
    "parametrs = 'preflayout={0}'.format(mode_layout)\n",
    "\n",
    "url = domain + proceeding + parametrs\n",
    "\n",
    "url"
   ]
  },
  {
   "cell_type": "code",
   "execution_count": 11,
   "metadata": {},
   "outputs": [],
   "source": [
    "response = requests.get(url=url, headers=headers)\n",
    "soup = bs4.BeautifulSoup(response.text, 'lxml')"
   ]
  },
  {
   "cell_type": "code",
   "execution_count": 17,
   "metadata": {},
   "outputs": [
    {
     "data": {
      "text/plain": [
       "['2666566',\n '2666567',\n '2666568',\n '2666569',\n '2666570',\n '2666571',\n '2666572',\n '2666573',\n '2666574',\n '2666575',\n '2666576']"
      ]
     },
     "execution_count": 17,
     "metadata": {},
     "output_type": "execute_result"
    }
   ],
   "source": [
    "article_ids = []\n",
    "\n",
    "layout = soup.find('div', {'class': 'layout'})\n",
    "table = layout.find('table', {'class': 'text12'})\n",
    "refs_for_articles = table.find_all(href=re.compile(r'citation.cfm\\?id=.*'))\n",
    "\n",
    "for a in refs_for_articles:\n",
    "    article_ids.append(a['href'].split('=')[-1])\n",
    "\n",
    "article_ids"
   ]
  }
 ],
 "metadata": {
  "kernelspec": {
   "display_name": "Python 3",
   "language": "python",
   "name": "python3"
  },
  "language_info": {
   "codemirror_mode": {
    "name": "ipython",
    "version": 2
   },
   "file_extension": ".py",
   "mimetype": "text/x-python",
   "name": "python",
   "nbconvert_exporter": "python",
   "pygments_lexer": "ipython2",
   "version": "2.7.14"
  }
 },
 "nbformat": 4,
 "nbformat_minor": 2
}
