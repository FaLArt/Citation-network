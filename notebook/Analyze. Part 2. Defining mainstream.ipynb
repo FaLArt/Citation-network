{
 "cells": [
  {
   "cell_type": "code",
   "execution_count": null,
   "metadata": {},
   "outputs": [],
   "source": [
    "%matplotlib inline\n",
    "\n",
    "from database.DataBaseModels import *\n",
    "from source.ArticleParser import ArticleParser\n",
    "from itertools import combinations\n",
    "from collections import Counter\n",
    "\n",
    "import pygal\n",
    "import operator\n",
    "import networkx as nx\n",
    "import matplotlib.pyplot as plt"
   ]
  },
  {
   "cell_type": "code",
   "execution_count": null,
   "metadata": {},
   "outputs": [],
   "source": [
    "total_digraph = nx.MultiDiGraph()\n",
    "\n",
    "\n",
    "for citation in db.Citation.select():\n",
    "    if citation.article_id.title != 'None' and citation.cited_by.title != 'None':\n",
    "        total_digraph.add_edge(citation.cited_by, citation.article_id)\n",
    "        \n",
    "total_digraph.remove_edges_from([edge for edge in total_digraph.selfloop_edges()])\n",
    "\n",
    "while True:\n",
    "    try:\n",
    "        for edge in nx.find_cycle(total_digraph):\n",
    "            total_digraph.remove_edge(edge[0], edge[1])\n",
    "    except:\n",
    "        break\n",
    "    \n",
    "        \n",
    "weakly_subgraphs_list = list(nx.weakly_connected_component_subgraphs(total_digraph))\n",
    "strongly_subgraphs_list = list(nx.strongly_connected_component_subgraphs(total_digraph))\n",
    "\n",
    "print('Number of nodes: {0}'.format(len(total_digraph.nodes)),\n",
    "      'Number of edges: {0}'.format(len(total_digraph.edges)),\n",
    "      'Number of weakly connected subgraphs: {0}'.format(len(weakly_subgraphs_list)),\n",
    "      'Number of strongly connected subgraphs: {0}'.format(len(strongly_subgraphs_list)),\n",
    "       sep='\\n')"
   ]
  },
  {
   "cell_type": "code",
   "execution_count": null,
   "metadata": {},
   "outputs": [],
   "source": [
    "root_list = []\n",
    "keywords = []\n",
    "citation_factor = 10\n",
    "\n",
    "for node in total_digraph.nodes:\n",
    "    if not list(total_digraph.successors(node)):\n",
    "        if len(list(total_digraph.predecessors(node))) == citation_factor:\n",
    "            root_list.append(node)\n",
    "            print(node.title)\n",
    "\n",
    "for root in root_list:\n",
    "    parser = ArticleParser()\n",
    "    keywords.append(parser.parse(root.article_id)['keywords'])"
   ]
  },
  {
   "cell_type": "code",
   "execution_count": null,
   "metadata": {},
   "outputs": [],
   "source": [
    "for ls in keywords:\n",
    "    for keyword in ls:\n",
    "        print(keyword, end=', ')\n",
    "    print()"
   ]
  },
  {
   "cell_type": "code",
   "execution_count": null,
   "metadata": {},
   "outputs": [],
   "source": [
    "def get_the_longest_path(graph, source, target):\n",
    "    simple_paths = nx.all_simple_paths(graph, source, target)\n",
    "    the_longest_path = []\n",
    "    for path in simple_paths:\n",
    "        if len(path) > len(the_longest_path):\n",
    "            the_longest_path = path\n",
    "    return the_longest_path"
   ]
  },
  {
   "cell_type": "code",
   "execution_count": null,
   "metadata": {},
   "outputs": [],
   "source": [
    "the_longest_path_dict = {}\n",
    "\n",
    "for root in root_list:\n",
    "    print(root)\n",
    "    counter = 0\n",
    "    \n",
    "    the_longest_path = []\n",
    "    for node in total_digraph.nodes:\n",
    "        counter += 1\n",
    "        print(counter)\n",
    "        path = get_the_longest_path(total_digraph, node, root)\n",
    "        if len(path) > len(the_longest_path):\n",
    "            the_longest_path = path\n",
    "    the_longest_path_dict[root] = the_longest_path"
   ]
  }
 ],
 "metadata": {
  "kernelspec": {
   "display_name": "Python 3",
   "language": "python",
   "name": "python3"
  },
  "language_info": {
   "codemirror_mode": {
    "name": "ipython",
    "version": 3
   },
   "file_extension": ".py",
   "mimetype": "text/x-python",
   "name": "python",
   "nbconvert_exporter": "python",
   "pygments_lexer": "ipython3",
   "version": "3.5.2"
  }
 },
 "nbformat": 4,
 "nbformat_minor": 2
}
