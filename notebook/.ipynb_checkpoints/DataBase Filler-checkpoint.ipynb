{
 "cells": [
  {
   "cell_type": "code",
   "execution_count": 1,
   "metadata": {},
   "outputs": [],
   "source": [
    "from database.DataBaseModels import *\n",
    "from source.ArticleParser import ArticleParser"
   ]
  },
  {
   "cell_type": "code",
   "execution_count": 5,
   "metadata": {},
   "outputs": [],
   "source": [
    "@db_session\n",
    "def commit_in_db(db_session, article_data):\n",
    "    article_entity = db_session.Article.get(article_id=article_data['article_id'])\n",
    "    \n",
    "    if not article_entity:\n",
    "        \n",
    "        venue_entity = db_session.Venue.get(name = str(article_data['venue']['name']))\n",
    "        if not venue_entity:\n",
    "            venue_entity = db_session.Venue(name = str(article_data['venue']['name']), url = article_data['venue']['url'])\n",
    "            db_session.commit()\n",
    "        \n",
    "        article_entity = db.Article(article_id = article_data['article_id'],\n",
    "                  title = article_data['title'],\n",
    "                  abstract = article_data['abstract'],\n",
    "                  year = article_data['year'],\n",
    "                  venue_id = venue_entity.venue_id)\n",
    "        db_session.commit()\n",
    "        \n",
    "        for aa in article_data['authors_and_affiliations']:\n",
    "            \n",
    "            author_entity = db_session.Author.get(name = aa['name'])\n",
    "            if not author_entity:\n",
    "                author_entity = db_session.Author(name = aa['name'], url = aa['url'])\n",
    "                db_session.commit()\n",
    "            \n",
    "            affiliation_entity = db_session.Affiliation.get(url = aa['affiliation']['url'])\n",
    "            if not affiliation_entity:\n",
    "                affiliation_entity = db_session.Affiliation(name = aa['affiliation']['name'],\n",
    "                                                                url = aa['affiliation']['url'])\n",
    "                db_session.commit()\n",
    "            \n",
    "            db_session.AuthorArticle(author_id = author_entity.author_id,\n",
    "                                     article_id = article_entity.article_id,\n",
    "                                    affiliation_id = affiliation_entity.affiliation_id)\n",
    "        \n",
    "        db_session.commit()\n",
    "        \n",
    "        for citation in article_data['cited_by']:\n",
    "            db_session.Citation(article_id = article_entity.article_id,\n",
    "                               cited_by = int(citation))\n",
    "            \n",
    "        db_session.commit()\n",
    "    else:\n",
    "        print('Article with such id {0} already exists'.format(article_entity.article_id))"
   ]
  },
  {
   "cell_type": "code",
   "execution_count": 6,
   "metadata": {},
   "outputs": [
    {
     "name": "stdout",
     "output_type": "stream",
     "text": [
      "Progress: 1\\6049\n",
      "Start parsing article with id: 3098231\n",
      "Initializing...\n",
      "Downloading article from url: https://dl.acm.org/citation.cfm?id=3098231&preflayout=flat\n",
      "Getting authors...\n",
      "Getting abstract...\n",
      "Getting venue...\n",
      "Get citations...\n",
      "Successfully!!! ^_^\n",
      "'authors'\n",
      "\n",
      "\n",
      "0 from 6049 articles were parsed successfully\n"
     ]
    }
   ],
   "source": [
    "total = len(db.Citation.select())\n",
    "counter = 0\n",
    "success_counter = 0\n",
    "\n",
    "citations_list = db.Citation.select()\n",
    "\n",
    "for citation in citations_list[:1]:\n",
    "    try:\n",
    "        counter += 1\n",
    "        print('Progress: {0}\\{1}'.format(counter, total))\n",
    "        article_parser = ArticleParser()\n",
    "        article_data = article_parser.parse(citation.cited_by)\n",
    "        commit_in_db(db_session=db, article_data=article_data)\n",
    "        success_counter += 1\n",
    "        print('\\n\\n')\n",
    "    except Exception as e:\n",
    "        print(str(e) + '\\n\\n')\n",
    "            \n",
    "print('{0} from {1} articles were parsed successfully'.format(success_counter, total))"
   ]
  }
 ],
 "metadata": {
  "kernelspec": {
   "display_name": "Python 3",
   "language": "python",
   "name": "python3"
  },
  "language_info": {
   "codemirror_mode": {
    "name": "ipython",
    "version": 3
   },
   "file_extension": ".py",
   "mimetype": "text/x-python",
   "name": "python",
   "nbconvert_exporter": "python",
   "pygments_lexer": "ipython3",
   "version": "3.6.5"
  }
 },
 "nbformat": 4,
 "nbformat_minor": 2
}
