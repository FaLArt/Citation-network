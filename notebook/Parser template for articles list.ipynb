{
 "cells": [
  {
   "cell_type": "code",
   "execution_count": 1,
   "metadata": {},
   "outputs": [],
   "source": [
    "import bs4, requests, re"
   ]
  },
  {
   "cell_type": "code",
   "execution_count": 14,
   "metadata": {},
   "outputs": [
    {
     "data": {
      "text/plain": [
       "'https://dl.acm.org/citation.cfm?id=3121245&preflayout=flat'"
      ]
     },
     "execution_count": 14,
     "metadata": {},
     "output_type": "execute_result"
    }
   ],
   "source": [
    "domain = 'https://dl.acm.org/'\n",
    "mode_layout = 'flat'\n",
    "proceeding_id = '3121245'\n",
    "headers = {'User-Agent': 'Mozilla/5.0 (Macintosh; Intel Mac OS X 10.9; rv:45.0) Gecko/20100101 Firefox/45.0'}\n",
    "\n",
    "proceeding = 'citation.cfm?id={0}&'.format(proceeding_id)\n",
    "parametrs = 'preflayout={0}'.format(mode_layout)\n",
    "\n",
    "url = domain + proceeding + parametrs\n",
    "\n",
    "url"
   ]
  },
  {
   "cell_type": "code",
   "execution_count": 15,
   "metadata": {},
   "outputs": [],
   "source": [
    "response = requests.get(url=url, headers=headers)\n",
    "soup = bs4.BeautifulSoup(response.text, 'lxml')"
   ]
  },
  {
   "cell_type": "code",
   "execution_count": 17,
   "metadata": {},
   "outputs": [
    {
     "data": {
      "text/plain": [
       "['3121249', '3121247', '3121248', '3121246', '3121250']"
      ]
     },
     "execution_count": 17,
     "metadata": {},
     "output_type": "execute_result"
    }
   ],
   "source": [
    "article_ids = []\n",
    "\n",
    "layout = soup.find('div', {'class': 'layout'})\n",
    "table = layout.find_all('table', {'class': 'text12'})\n",
    "refs_for_articles = table[-1].find_all(href=re.compile(r'citation.cfm\\?id=.*'))\n",
    "\n",
    "for a in refs_for_articles:\n",
    "    article_ids.append(a['href'].split('=')[-1])\n",
    "    \n",
    "article_ids\n"
   ]
  }
 ],
 "metadata": {
  "kernelspec": {
   "display_name": "Python 3",
   "language": "python",
   "name": "python3"
  },
  "language_info": {
   "codemirror_mode": {
    "name": "ipython",
    "version": 3
   },
   "file_extension": ".py",
   "mimetype": "text/x-python",
   "name": "python",
   "nbconvert_exporter": "python",
   "pygments_lexer": "ipython3",
   "version": "3.6.5"
  }
 },
 "nbformat": 4,
 "nbformat_minor": 2
}
