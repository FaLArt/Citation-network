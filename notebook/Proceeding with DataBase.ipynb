{
 "cells": [
  {
   "cell_type": "code",
   "execution_count": 1,
   "metadata": {},
   "outputs": [],
   "source": [
    "from database.DataBaseModels import *\n",
    "import json"
   ]
  },
  {
   "cell_type": "code",
   "execution_count": null,
   "metadata": {},
   "outputs": [],
   "source": [
    "for article in db.Article.select():\n",
    "    length = len(article.article__citation)\n",
    "    if length == 0:\n",
    "        article.delete()\n",
    "        db.commit()\n",
    "        print('Article with ID {0} deleted successfully'.format(article.article_id))"
   ]
  },
  {
   "cell_type": "code",
   "execution_count": null,
   "metadata": {},
   "outputs": [],
   "source": [
    "counter = 0\n",
    "\n",
    "for article in db.Article.select():\n",
    "    if article.year < 2010:\n",
    "        article.delete()\n",
    "        db.commit()\n",
    "        counter += 1\n",
    "        \n",
    "counter"
   ]
  },
  {
   "cell_type": "code",
   "execution_count": null,
   "metadata": {},
   "outputs": [],
   "source": [
    "for author in db.Author.select():\n",
    "    if len(author.author__author_article) == 0:\n",
    "        author.delete()\n",
    "        db.commit()\n",
    "        print('Author with ID {0} deleted succesfully'.format(author.author_id))"
   ]
  },
  {
   "cell_type": "code",
   "execution_count": null,
   "metadata": {},
   "outputs": [],
   "source": [
    "article = db.Article[1808928]\n",
    "for aa in article.article__author_article:\n",
    "    print(aa.author_id.name)"
   ]
  },
  {
   "cell_type": "code",
   "execution_count": null,
   "metadata": {},
   "outputs": [],
   "source": [
    "for article in db.Article.select():\n",
    "    article.abstract = re.sub('\\\"', '', article.abstract)\n",
    "    db.commit()"
   ]
  },
  {
   "cell_type": "code",
   "execution_count": 3,
   "metadata": {},
   "outputs": [],
   "source": [
    "for author in db.Author.select():\n",
    "    author.citations_counter = 0\n",
    "    db.commit()\n",
    "\n",
    "for citation in db.Citation.select():\n",
    "    article_id = citation.article_id\n",
    "    \n",
    "    for author in article_id.article__author_article.author_id:\n",
    "        author.citations_counter += 1\n",
    "    db.commit()"
   ]
  },
  {
   "cell_type": "code",
   "execution_count": null,
   "metadata": {},
   "outputs": [],
   "source": [
    "for author in db.Author.select():\n",
    "    author.citations_counter = 0\n",
    "    db.commit()"
   ]
  },
  {
   "cell_type": "code",
   "execution_count": null,
   "metadata": {},
   "outputs": [],
   "source": [
    "counter = 0\n",
    "\n",
    "for author in db.Author.select():\n",
    "    if author.citations_counter > 10:\n",
    "        counter += 1\n",
    "\n",
    "'{0}/{1}'.format(counter, len(db.Author.select()))"
   ]
  },
  {
   "cell_type": "code",
   "execution_count": null,
   "metadata": {},
   "outputs": [],
   "source": [
    "counter = 0\n",
    "\n",
    "for citation in db.Citation.select():\n",
    "    if not db.Article.get(article_id = citation.cited_by):\n",
    "        db.Article(article_id = citation.cited_by)\n",
    "        db.commit()\n",
    "        counter += 1\n",
    "        print('Plug for article with ID {0} was addes successfully'.format(citation.cited_by))\n",
    "\n",
    "print('{0} plugs were added successfully'.format(counter))"
   ]
  }
 ],
 "metadata": {
  "kernelspec": {
   "display_name": "Python 3",
   "language": "python",
   "name": "python3"
  },
  "language_info": {
   "codemirror_mode": {
    "name": "ipython",
    "version": 3
   },
   "file_extension": ".py",
   "mimetype": "text/x-python",
   "name": "python",
   "nbconvert_exporter": "python",
   "pygments_lexer": "ipython3",
   "version": "3.5.2"
  }
 },
 "nbformat": 4,
 "nbformat_minor": 2
}
