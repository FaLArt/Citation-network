{
 "cells": [
  {
   "cell_type": "code",
   "execution_count": 1,
   "metadata": {},
   "outputs": [],
   "source": [
    "%matplotlib inline\n",
    "\n",
    "from database.DataBaseModels import *\n",
    "\n",
    "import networkx as nx\n",
    "import json"
   ]
  },
  {
   "cell_type": "code",
   "execution_count": 2,
   "metadata": {},
   "outputs": [],
   "source": [
    "author_graph = nx.MultiDiGraph()"
   ]
  },
  {
   "cell_type": "code",
   "execution_count": 3,
   "metadata": {},
   "outputs": [],
   "source": [
    "for citation in db.Citation.select():\n",
    "    for author_to in citation.article_id.article__author_article.author_id:\n",
    "        for author_from in citation.cited_by.article__author_article.author_id:\n",
    "            author_graph.add_edge(author_from, author_to)"
   ]
  },
  {
   "cell_type": "code",
   "execution_count": 6,
   "metadata": {},
   "outputs": [
    {
     "name": "stdout",
     "output_type": "stream",
     "text": [
      "101121\n",
      "5791\n"
     ]
    }
   ],
   "source": [
    "print(len(author_graph.edges))\n",
    "print(len(author_graph.nodes))"
   ]
  },
  {
   "cell_type": "code",
   "execution_count": 5,
   "metadata": {},
   "outputs": [],
   "source": [
    "# Removing selfloops edges\n",
    "author_graph.remove_edges_from([edge for edge in author_graph.selfloop_edges()])"
   ]
  },
  {
   "cell_type": "code",
   "execution_count": 7,
   "metadata": {},
   "outputs": [],
   "source": [
    "# List of authors pairs who cited each other\n",
    "result = []\n",
    "\n",
    "for node in author_graph.nodes:\n",
    "    for successor in author_graph.successors(node):\n",
    "        if node in author_graph.successors(successor):\n",
    "            result.append([successor, node])\n",
    "\n",
    "\n",
    "for sublist in result:\n",
    "    result.remove([sublist[1], sublist[0]])"
   ]
  },
  {
   "cell_type": "code",
   "execution_count": 8,
   "metadata": {},
   "outputs": [],
   "source": [
    "json_file = open('authors_pairs.json', 'w')\n",
    "\n",
    "json.dump({tup[0]:[tup[1][0].author_id, tup[1][1].author_id] for tup in enumerate(result)}, json_file)"
   ]
  },
  {
   "cell_type": "code",
   "execution_count": 25,
   "metadata": {},
   "outputs": [],
   "source": [
    "both_side_citations_graph = nx.Graph()\n",
    "\n",
    "both_side_citations_graph.add_edges_from([[author[0].name, author[1].name] for author in result])"
   ]
  },
  {
   "cell_type": "code",
   "execution_count": 15,
   "metadata": {},
   "outputs": [
    {
     "data": {
      "text/plain": [
       "4861"
      ]
     },
     "execution_count": 15,
     "metadata": {},
     "output_type": "execute_result"
    }
   ],
   "source": [
    "len(result)"
   ]
  },
  {
   "cell_type": "code",
   "execution_count": 95,
   "metadata": {},
   "outputs": [],
   "source": [
    "from bokeh.io import show, output_notebook, output_file\n",
    "from bokeh.models import Plot, Range1d, MultiLine, Circle, HoverTool, TapTool, BoxSelectTool, WheelZoomTool, PanTool, ResetTool, LabelSet, ColumnDataSource\n",
    "from bokeh.models.graphs import from_networkx, NodesAndLinkedEdges, EdgesAndLinkedNodes\n",
    "from bokeh.palettes import Spectral4\n",
    "\n",
    "G = from_networkx(both_side_citations_graph, nx.spring_layout, scale = 5, center = (0, 0))"
   ]
  },
  {
   "cell_type": "code",
   "execution_count": 99,
   "metadata": {},
   "outputs": [],
   "source": [
    "plot = Plot(plot_width = 800,\n",
    "             plot_height = 800,\n",
    "             x_range = Range1d(-5, 5),\n",
    "             y_range = Range1d(-5, 5))\n",
    "\n",
    "plot.title.text = \"Both Side Citations\"\n",
    "G.node_renderer.glyph = Circle(size=15,\n",
    "                               fill_color=Spectral4[0])\n",
    "\n",
    "plot.add_tools(HoverTool(tooltips=None), TapTool(), BoxSelectTool(), WheelZoomTool(), PanTool(), ResetTool())\n",
    "\n",
    "\n",
    "G.node_renderer.glyph = Circle(size=10, fill_color=Spectral4[3])\n",
    "G.node_renderer.selection_glyph = Circle(size=10, fill_color=Spectral4[2])\n",
    "G.node_renderer.hover_glyph = Circle(size=10, fill_color=Spectral4[1])\n",
    "\n",
    "G.edge_renderer.glyph = MultiLine(line_color=\"#548251\", line_width=2)\n",
    "G.edge_renderer.selection_glyph = MultiLine(line_color=Spectral4[2], line_width=2)\n",
    "G.edge_renderer.hover_glyph = MultiLine(line_color=Spectral4[1], line_width=2)\n",
    "\n",
    "G.selection_policy = NodesAndLinkedEdges()\n",
    "G.inspection_policy = EdgesAndLinkedNodes()\n",
    "\n",
    "plot.renderers.append(G)\n",
    "\n",
    "#output_file(\"Both Side Authors Citations.html\")\n",
    "show(plot)"
   ]
  }
 ],
 "metadata": {
  "kernelspec": {
   "display_name": "Python 3",
   "language": "python",
   "name": "python3"
  },
  "language_info": {
   "codemirror_mode": {
    "name": "ipython",
    "version": 3
   },
   "file_extension": ".py",
   "mimetype": "text/x-python",
   "name": "python",
   "nbconvert_exporter": "python",
   "pygments_lexer": "ipython3",
   "version": "3.5.2"
  }
 },
 "nbformat": 4,
 "nbformat_minor": 2
}
