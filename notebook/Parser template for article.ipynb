{
 "cells": [
  {
   "cell_type": "code",
   "execution_count": 1,
   "metadata": {},
   "outputs": [],
   "source": [
    "import bs4, requests, re\n",
    "from bibtexparser.bparser import BibTexParser"
   ]
  },
  {
   "cell_type": "code",
   "execution_count": 2,
   "metadata": {},
   "outputs": [
    {
     "name": "stdout",
     "output_type": "stream",
     "text": [
      "https://dl.acm.org/citation.cfm?id=2786848&preflayout=flat\n",
      "https://dl.acm.org/downformats.cfm?id=2786848&parent_id=&expformat=bibtex\n"
     ]
    }
   ],
   "source": [
    "mode_layout = 'flat'\n",
    "article_id = '2786848'\n",
    "expformat = 'bibtex'\n",
    "\n",
    "domain = 'https://dl.acm.org/'\n",
    "article = 'citation.cfm?id={0}&'.format(article_id)\n",
    "parametrs = 'preflayout={0}'.format(mode_layout)\n",
    "url = domain + article + parametrs\n",
    "# https://dl.acm.org/downformats.cfm?id=2492591&parent_id=&expformat=bibtex\n",
    "url_download_bibtex = domain + 'downformats.cfm?id={0}&parent_id=&expformat={1}'.format(article_id, expformat)\n",
    "headers = {'User-Agent': 'Mozilla/5.0 (Macintosh; Intel Mac OS X 10.9; rv:45.0) Gecko/20100101 Firefox/45.0'}\n",
    "\n",
    "print(url, url_download_bibtex, sep='\\n')"
   ]
  },
  {
   "cell_type": "code",
   "execution_count": 3,
   "metadata": {},
   "outputs": [],
   "source": [
    "response = requests.get(url=url, headers=headers)\n",
    "soup = bs4.BeautifulSoup(response.text, 'lxml')\n",
    "\n",
    "bibtex_file = open('bibtex.bib', 'w').write(requests.get(url=url_download_bibtex, headers=headers).text)\n",
    "bibtex_file = open('bibtex.bib', 'r')\n",
    "bibtex_dict = BibTexParser(interpolate_strings=False).parse_file(bibtex_file).entries"
   ]
  },
  {
   "cell_type": "code",
   "execution_count": 4,
   "metadata": {},
   "outputs": [
    {
     "data": {
      "text/plain": [
       "[{'ENTRYTYPE': 'inproceedings',\n",
       "  'ID': 'Pereira:2010:RFA:1808920.1808928',\n",
       "  'acmid': '1808928',\n",
       "  'address': 'New York, NY, USA',\n",
       "  'author': \"Pereira, Tha\\\\'{\\\\i}s Alves Burity and dos Santos, Vinicius Souza and Ribeiro, Bruno Luna and Elias, Gl\\\\^{e}dson\",\n",
       "  'booktitle': 'Proceedings of the 2Nd International Workshop on Recommendation Systems for Software Engineering',\n",
       "  'doi': '10.1145/1808920.1808928',\n",
       "  'isbn': '978-1-60558-974-9',\n",
       "  'keywords': 'global software development, global software teams, recommendation systems, software product line',\n",
       "  'location': 'Cape Town, South Africa',\n",
       "  'numpages': '5',\n",
       "  'pages': '36--40',\n",
       "  'publisher': 'ACM',\n",
       "  'series': \"RSSE '10\",\n",
       "  'title': 'A Recommendation Framework for Allocating Global Software Teams in Software Product Line Projects',\n",
       "  'url': 'http://doi.acm.org/10.1145/1808920.1808928',\n",
       "  'year': '2010'}]"
      ]
     },
     "execution_count": 4,
     "metadata": {},
     "output_type": "execute_result"
    }
   ],
   "source": [
    "bibtex_dict"
   ]
  },
  {
   "cell_type": "code",
   "execution_count": 5,
   "metadata": {},
   "outputs": [
    {
     "data": {
      "text/plain": [
       "({'doi': '10.1145/1808920.1808928',\n",
       "  'id': '1808928',\n",
       "  'title': 'A Recommendation Framework for Allocating Global Software Teams in Software Product Line Projects',\n",
       "  'url': 'https://dl.acm.org/citation.cfm?id=1808928&preflayout=flat',\n",
       "  'year': '2010'},\n",
       " [{'ENTRYTYPE': 'inproceedings',\n",
       "   'ID': 'Pereira:2010:RFA:1808920.1808928',\n",
       "   'acmid': '1808928',\n",
       "   'address': 'New York, NY, USA',\n",
       "   'author': \"Pereira, Tha\\\\'{\\\\i}s Alves Burity and dos Santos, Vinicius Souza and Ribeiro, Bruno Luna and Elias, Gl\\\\^{e}dson\",\n",
       "   'booktitle': 'Proceedings of the 2Nd International Workshop on Recommendation Systems for Software Engineering',\n",
       "   'doi': '10.1145/1808920.1808928',\n",
       "   'isbn': '978-1-60558-974-9',\n",
       "   'keywords': 'global software development, global software teams, recommendation systems, software product line',\n",
       "   'location': 'Cape Town, South Africa',\n",
       "   'numpages': '5',\n",
       "   'pages': '36--40',\n",
       "   'publisher': 'ACM',\n",
       "   'series': \"RSSE '10\",\n",
       "   'title': 'A Recommendation Framework for Allocating Global Software Teams in Software Product Line Projects',\n",
       "   'url': 'http://doi.acm.org/10.1145/1808920.1808928',\n",
       "   'year': '2010'}])"
      ]
     },
     "execution_count": 5,
     "metadata": {},
     "output_type": "execute_result"
    }
   ],
   "source": [
    "article_data = {}\n",
    "\n",
    "article_data['id'] = article_id\n",
    "article_data['url'] = url\n",
    "article_data['title'] = bibtex_dict[0].get('title', None)\n",
    "article_data['doi'] = bibtex_dict[0].get('doi', None) \n",
    "article_data['year'] = bibtex_dict[0].get('year', None)\n",
    "\n",
    "article_data, bibtex_dict"
   ]
  },
  {
   "cell_type": "code",
   "execution_count": 6,
   "metadata": {},
   "outputs": [
    {
     "data": {
      "text/plain": [
       "{'authors_and_affiliations': [{'affiliation': {'name': 'Federal University of Paraíba, Brazil',\n",
       "    'url': 'https://dl.acm.org/inst_page.cfm?id=60011324'},\n",
       "   'name': 'Thaís Alves Burity Pereira',\n",
       "   'url': 'https://dl.acm.org/author_page.cfm?id=81440619424&coll=DL&dl=ACM&trk=0'},\n",
       "  {'affiliation': {'name': 'Federal University of Paraíba, Brazil',\n",
       "    'url': 'https://dl.acm.org/inst_page.cfm?id=60011324'},\n",
       "   'name': 'Vinicius Souza dos Santos',\n",
       "   'url': 'https://dl.acm.org/author_page.cfm?id=81464645284&coll=DL&dl=ACM&trk=0'},\n",
       "  {'affiliation': {'name': 'Federal University of Paraíba, Brazil',\n",
       "    'url': 'https://dl.acm.org/inst_page.cfm?id=60011324'},\n",
       "   'name': 'Bruno Luna Ribeiro',\n",
       "   'url': 'https://dl.acm.org/author_page.cfm?id=81319500397&coll=DL&dl=ACM&trk=0'},\n",
       "  {'affiliation': {'name': 'Federal University of Paraíba, Brazil',\n",
       "    'url': 'https://dl.acm.org/inst_page.cfm?id=60011324'},\n",
       "   'name': 'Glêdson Elias',\n",
       "   'url': 'https://dl.acm.org/author_page.cfm?id=81100533001&coll=DL&dl=ACM&trk=0'}],\n",
       " 'doi': '10.1145/1808920.1808928',\n",
       " 'id': '1808928',\n",
       " 'title': 'A Recommendation Framework for Allocating Global Software Teams in Software Product Line Projects',\n",
       " 'url': 'https://dl.acm.org/citation.cfm?id=1808928&preflayout=flat',\n",
       " 'year': '2010'}"
      ]
     },
     "execution_count": 6,
     "metadata": {},
     "output_type": "execute_result"
    }
   ],
   "source": [
    "divmain = soup.find('div', id='divmain')\n",
    "\n",
    "authors_tags = divmain.find_all('a', href=re.compile('author_page.cfm\\?id=*'))\n",
    "authors_and_affiliations = []\n",
    "\n",
    "affiliation_tags = divmain.find_all('a', href=re.compile('inst_page.cfm\\?id=*'))\n",
    "affiliations = []\n",
    "\n",
    "for author, affiliation in zip(authors_tags, affiliation_tags):\n",
    "    authors_and_affiliations.append({'name': re.sub('[\\'\\']', '', repr(author.text.strip())),\n",
    "                    'url': domain + author['href'],\n",
    "                    'affiliation': {'name': re.sub('[\\'\\']', '', repr(affiliation.text.strip())),\n",
    "                                    'url': domain + affiliation['href']}})\n",
    "\n",
    "article_data['authors_and_affiliations'] = authors_and_affiliations\n",
    "article_data"
   ]
  },
  {
   "cell_type": "code",
   "execution_count": 7,
   "metadata": {},
   "outputs": [
    {
     "data": {
      "text/plain": [
       "{'abstract': 'In order to improve software quality and reduce costs and deadlines, many companies are adopting Software Product Line approaches. As a consequence of globalization, another common practice is the adoption of Global Software Development approaches, which seek to find more qualified workforce and more attractive costs in companies distributed around the world. Taking into account the benefits of both approaches, the ramework proposed in this paper has the goal of aiding the management of global software teams involved in the implementation phase of an SPL project, providing recommendations on how to allocate the teams to the set of software components, which are initially specified in the SPL architecture and must be subsequently implemented.',\n",
       " 'authors_and_affiliations': [{'affiliation': {'name': 'Federal University of Paraíba, Brazil',\n",
       "    'url': 'https://dl.acm.org/inst_page.cfm?id=60011324'},\n",
       "   'name': 'Thaís Alves Burity Pereira',\n",
       "   'url': 'https://dl.acm.org/author_page.cfm?id=81440619424&coll=DL&dl=ACM&trk=0'},\n",
       "  {'affiliation': {'name': 'Federal University of Paraíba, Brazil',\n",
       "    'url': 'https://dl.acm.org/inst_page.cfm?id=60011324'},\n",
       "   'name': 'Vinicius Souza dos Santos',\n",
       "   'url': 'https://dl.acm.org/author_page.cfm?id=81464645284&coll=DL&dl=ACM&trk=0'},\n",
       "  {'affiliation': {'name': 'Federal University of Paraíba, Brazil',\n",
       "    'url': 'https://dl.acm.org/inst_page.cfm?id=60011324'},\n",
       "   'name': 'Bruno Luna Ribeiro',\n",
       "   'url': 'https://dl.acm.org/author_page.cfm?id=81319500397&coll=DL&dl=ACM&trk=0'},\n",
       "  {'affiliation': {'name': 'Federal University of Paraíba, Brazil',\n",
       "    'url': 'https://dl.acm.org/inst_page.cfm?id=60011324'},\n",
       "   'name': 'Glêdson Elias',\n",
       "   'url': 'https://dl.acm.org/author_page.cfm?id=81100533001&coll=DL&dl=ACM&trk=0'}],\n",
       " 'doi': '10.1145/1808920.1808928',\n",
       " 'id': '1808928',\n",
       " 'title': 'A Recommendation Framework for Allocating Global Software Teams in Software Product Line Projects',\n",
       " 'url': 'https://dl.acm.org/citation.cfm?id=1808928&preflayout=flat',\n",
       " 'year': '2010'}"
      ]
     },
     "execution_count": 7,
     "metadata": {},
     "output_type": "execute_result"
    }
   ],
   "source": [
    "layout = soup.find('div', {'class': 'layout'})\n",
    "flatbody = layout.find('div', {'class': 'flatbody'})\n",
    "\n",
    "abstract = flatbody.text.strip()\n",
    "article_data['abstract'] = abstract\n",
    "\n",
    "article_data"
   ]
  },
  {
   "cell_type": "code",
   "execution_count": 8,
   "metadata": {},
   "outputs": [
    {
     "data": {
      "text/plain": [
       "{'abstract': 'In order to improve software quality and reduce costs and deadlines, many companies are adopting Software Product Line approaches. As a consequence of globalization, another common practice is the adoption of Global Software Development approaches, which seek to find more qualified workforce and more attractive costs in companies distributed around the world. Taking into account the benefits of both approaches, the ramework proposed in this paper has the goal of aiding the management of global software teams involved in the implementation phase of an SPL project, providing recommendations on how to allocate the teams to the set of software components, which are initially specified in the SPL architecture and must be subsequently implemented.',\n",
       " 'authors_and_affiliations': [{'affiliation': {'name': 'Federal University of Paraíba, Brazil',\n",
       "    'url': 'https://dl.acm.org/inst_page.cfm?id=60011324'},\n",
       "   'name': 'Thaís Alves Burity Pereira',\n",
       "   'url': 'https://dl.acm.org/author_page.cfm?id=81440619424&coll=DL&dl=ACM&trk=0'},\n",
       "  {'affiliation': {'name': 'Federal University of Paraíba, Brazil',\n",
       "    'url': 'https://dl.acm.org/inst_page.cfm?id=60011324'},\n",
       "   'name': 'Vinicius Souza dos Santos',\n",
       "   'url': 'https://dl.acm.org/author_page.cfm?id=81464645284&coll=DL&dl=ACM&trk=0'},\n",
       "  {'affiliation': {'name': 'Federal University of Paraíba, Brazil',\n",
       "    'url': 'https://dl.acm.org/inst_page.cfm?id=60011324'},\n",
       "   'name': 'Bruno Luna Ribeiro',\n",
       "   'url': 'https://dl.acm.org/author_page.cfm?id=81319500397&coll=DL&dl=ACM&trk=0'},\n",
       "  {'affiliation': {'name': 'Federal University of Paraíba, Brazil',\n",
       "    'url': 'https://dl.acm.org/inst_page.cfm?id=60011324'},\n",
       "   'name': 'Glêdson Elias',\n",
       "   'url': 'https://dl.acm.org/author_page.cfm?id=81100533001&coll=DL&dl=ACM&trk=0'}],\n",
       " 'doi': '10.1145/1808920.1808928',\n",
       " 'id': '1808928',\n",
       " 'title': 'A Recommendation Framework for Allocating Global Software Teams in Software Product Line Projects',\n",
       " 'url': 'https://dl.acm.org/citation.cfm?id=1808928&preflayout=flat',\n",
       " 'venue': {'name': 'FSE', 'url': 'https://dl.acm.org/event.cfm?id=RE201'},\n",
       " 'year': '2010'}"
      ]
     },
     "execution_count": 8,
     "metadata": {},
     "output_type": "execute_result"
    }
   ],
   "source": [
    "td = soup.find('td', string='Conference')\n",
    "\n",
    "if td:\n",
    "    td = td.nextSibling.nextSibling\n",
    "    venue = td.strong.text.strip()\n",
    "    url_conference = td.a['href']\n",
    "else:\n",
    "    venue = None\n",
    "    url_conference = 'None'\n",
    "\n",
    "article_data['venue'] = {'name': venue,\n",
    "                        'url': domain + url_conference}\n",
    "\n",
    "article_data"
   ]
  },
  {
   "cell_type": "code",
   "execution_count": 9,
   "metadata": {},
   "outputs": [
    {
     "data": {
      "text/plain": [
       "{'abstract': 'In order to improve software quality and reduce costs and deadlines, many companies are adopting Software Product Line approaches. As a consequence of globalization, another common practice is the adoption of Global Software Development approaches, which seek to find more qualified workforce and more attractive costs in companies distributed around the world. Taking into account the benefits of both approaches, the ramework proposed in this paper has the goal of aiding the management of global software teams involved in the implementation phase of an SPL project, providing recommendations on how to allocate the teams to the set of software components, which are initially specified in the SPL architecture and must be subsequently implemented.',\n",
       " 'authors_and_affiliations': [{'affiliation': {'name': 'Federal University of Paraíba, Brazil',\n",
       "    'url': 'https://dl.acm.org/inst_page.cfm?id=60011324'},\n",
       "   'name': 'Thaís Alves Burity Pereira',\n",
       "   'url': 'https://dl.acm.org/author_page.cfm?id=81440619424&coll=DL&dl=ACM&trk=0'},\n",
       "  {'affiliation': {'name': 'Federal University of Paraíba, Brazil',\n",
       "    'url': 'https://dl.acm.org/inst_page.cfm?id=60011324'},\n",
       "   'name': 'Vinicius Souza dos Santos',\n",
       "   'url': 'https://dl.acm.org/author_page.cfm?id=81464645284&coll=DL&dl=ACM&trk=0'},\n",
       "  {'affiliation': {'name': 'Federal University of Paraíba, Brazil',\n",
       "    'url': 'https://dl.acm.org/inst_page.cfm?id=60011324'},\n",
       "   'name': 'Bruno Luna Ribeiro',\n",
       "   'url': 'https://dl.acm.org/author_page.cfm?id=81319500397&coll=DL&dl=ACM&trk=0'},\n",
       "  {'affiliation': {'name': 'Federal University of Paraíba, Brazil',\n",
       "    'url': 'https://dl.acm.org/inst_page.cfm?id=60011324'},\n",
       "   'name': 'Glêdson Elias',\n",
       "   'url': 'https://dl.acm.org/author_page.cfm?id=81100533001&coll=DL&dl=ACM&trk=0'}],\n",
       " 'cited_by': ['2666741', '2695909', '2372289', '2075846', '3139029'],\n",
       " 'doi': '10.1145/1808920.1808928',\n",
       " 'id': '1808928',\n",
       " 'title': 'A Recommendation Framework for Allocating Global Software Teams in Software Product Line Projects',\n",
       " 'url': 'https://dl.acm.org/citation.cfm?id=1808928&preflayout=flat',\n",
       " 'venue': {'name': 'FSE', 'url': 'https://dl.acm.org/event.cfm?id=RE201'},\n",
       " 'year': '2010'}"
      ]
     },
     "execution_count": 9,
     "metadata": {},
     "output_type": "execute_result"
    }
   ],
   "source": [
    "flatbody = soup.find_all('div', {'class': 'flatbody'})\n",
    "cited_by = []\n",
    "for a in flatbody[3].find_all('a'):\n",
    "    cited_by.append(a['href'].split('=')[-1])\n",
    "    \n",
    "article_data['cited_by'] = cited_by\n",
    "\n",
    "article_data"
   ]
  }
 ],
 "metadata": {
  "kernelspec": {
   "display_name": "Python 3",
   "language": "python",
   "name": "python3"
  },
  "language_info": {
   "codemirror_mode": {
    "name": "ipython",
    "version": 3
   },
   "file_extension": ".py",
   "mimetype": "text/x-python",
   "name": "python",
   "nbconvert_exporter": "python",
   "pygments_lexer": "ipython3",
   "version": "3.6.5"
  }
 },
 "nbformat": 4,
 "nbformat_minor": 2
}
