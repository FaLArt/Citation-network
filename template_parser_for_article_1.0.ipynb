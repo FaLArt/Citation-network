{
 "cells": [
  {
   "cell_type": "code",
   "execution_count": 363,
   "metadata": {},
   "outputs": [],
   "source": [
    "import bs4, requests, re, bibtexparser"
   ]
  },
  {
   "cell_type": "code",
   "execution_count": 401,
   "metadata": {},
   "outputs": [
    {
     "name": "stdout",
     "output_type": "stream",
     "text": [
      "https://dl.acm.org/citation.cfm?id=123456&preflayout=flat\n",
      "https://dl.acm.org/downformats.cfm?id=123456&parent_id=&expformat=bibtex\n"
     ]
    }
   ],
   "source": [
    "mode_layout = 'flat'\n",
    "article_id = '123456'\n",
    "expformat = 'bibtex'\n",
    "\n",
    "domain = 'https://dl.acm.org/'\n",
    "article = 'citation.cfm?id={0}&'.format(article_id)\n",
    "parametrs = 'preflayout={0}'.format(mode_layout)\n",
    "url = domain + article + parametrs\n",
    "# https://dl.acm.org/downformats.cfm?id=2492591&parent_id=&expformat=bibtex\n",
    "url_download_bibtex = domain + 'downformats.cfm?id={0}&parent_id=&expformat={1}'.format(article_id, expformat)\n",
    "headers = {'User-Agent': 'Mozilla/5.0 (Macintosh; Intel Mac OS X 10.9; rv:45.0) Gecko/20100101 Firefox/45.0'}\n",
    "file = open('test.html', 'wb')\n",
    "\n",
    "print(url, url_download_bibtex, sep='\\n')"
   ]
  },
  {
   "cell_type": "code",
   "execution_count": 402,
   "metadata": {},
   "outputs": [],
   "source": [
    "response = requests.get(url=url, headers=headers)\n",
    "soup = bs4.BeautifulSoup(response.text, 'lxml')\n",
    "bibtex_file = open('bibtex.bib', 'w').write(requests.get(url=url_download_bibtex, headers=headers).text)\n",
    "bibtex_file = open('bibtex.bib', 'r')\n",
    "bibtex_dict = bibtexparser.load(bibtex_file).entries"
   ]
  },
  {
   "cell_type": "code",
   "execution_count": 403,
   "metadata": {},
   "outputs": [
    {
     "data": {
      "text/plain": [
       "[{'ENTRYTYPE': 'inproceedings',\n",
       "  'ID': 'Chakravarty:1991:SIS:123186.123456',\n",
       "  'acmid': '123456',\n",
       "  'address': 'New York, NY, USA',\n",
       "  'author': 'Chakravarty, Sreejit',\n",
       "  'booktitle': 'Proceedings of the 27th ACM/IEEE Design Automation Conference',\n",
       "  'doi': '10.1145/123186.123456',\n",
       "  'isbn': '0-89791-363-9',\n",
       "  'location': 'Orlando, Florida, USA',\n",
       "  'numpages': '4',\n",
       "  'pages': '736--739',\n",
       "  'publisher': 'ACM',\n",
       "  'series': \"DAC '90\",\n",
       "  'title': 'On Synthesizing and Identifying Stuck-open Testable CMOS Combinational Circuits (Extended Abstract)',\n",
       "  'url': 'http://doi.acm.org/10.1145/123186.123456',\n",
       "  'year': '1990'}]"
      ]
     },
     "execution_count": 403,
     "metadata": {},
     "output_type": "execute_result"
    }
   ],
   "source": [
    "bibtex_dict"
   ]
  },
  {
   "cell_type": "code",
   "execution_count": 415,
   "metadata": {},
   "outputs": [
    {
     "data": {
      "text/plain": [
       "[{'name': 'Sreejit Chakravarty',\n",
       "  'url': 'https://dl.acm.org/author_page.cfm?id=81100001078&coll=DL&dl=ACM&trk=0'}]"
      ]
     },
     "execution_count": 415,
     "metadata": {},
     "output_type": "execute_result"
    }
   ],
   "source": [
    "divmain = soup.find('div', id='divmain')\n",
    "\n",
    "authors_tags = divmain.find_all('td', {'style': 'padding-right:3px;', 'valign': 'top',  'nowrap': 'nowrap'})\n",
    "authors = []\n",
    "\n",
    "for author_tag in authors_tags:\n",
    "    name = author_tag.text\n",
    "    authors.append({'name': name.strip(),\n",
    "                    'url': domain + author_tag.find('a')['href']})\n",
    "    \n",
    "authors"
   ]
  },
  {
   "cell_type": "code",
   "execution_count": 416,
   "metadata": {},
   "outputs": [
    {
     "data": {
      "text/plain": [
       "'We show that a class of CMOS circuits is a testable realization and static CMOS circuits synthesized by some existing synthesis systems belongs to this class. We propose a more “direct” solution to the problem of computing robust test-pairs for stuck-open faults by defining a new six-valued logic. This in turn gives us a solution to the problem of identifying stuck-open testable circuits.'"
      ]
     },
     "execution_count": 416,
     "metadata": {},
     "output_type": "execute_result"
    }
   ],
   "source": [
    "layout = soup.find('div', {'class': 'layout'}).find_all('div', {'style': 'display:inline'})\n",
    "abstract = layout[0].text.strip()\n",
    "abstract"
   ]
  }
 ],
 "metadata": {
  "kernelspec": {
   "display_name": "Python 3",
   "language": "python",
   "name": "python3"
  },
  "language_info": {
   "codemirror_mode": {
    "name": "ipython",
    "version": 3
   },
   "file_extension": ".py",
   "mimetype": "text/x-python",
   "name": "python",
   "nbconvert_exporter": "python",
   "pygments_lexer": "ipython3",
   "version": "3.6.4"
  }
 },
 "nbformat": 4,
 "nbformat_minor": 2
}
