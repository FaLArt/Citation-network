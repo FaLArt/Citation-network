{
 "cells": [
  {
   "cell_type": "code",
   "execution_count": 363,
   "metadata": {},
   "outputs": [],
   "source": [
    "import bs4, requests, re, bibtexparser"
   ]
  },
  {
   "cell_type": "code",
   "execution_count": 587,
   "metadata": {},
   "outputs": [
    {
     "name": "stdout",
     "output_type": "stream",
     "text": [
      "https://dl.acm.org/citation.cfm?id=337228&preflayout=flat\n",
      "https://dl.acm.org/downformats.cfm?id=337228&parent_id=&expformat=bibtex\n"
     ]
    }
   ],
   "source": [
    "mode_layout = 'flat'\n",
    "article_id = '337228'\n",
    "expformat = 'bibtex'\n",
    "\n",
    "domain = 'https://dl.acm.org/'\n",
    "article = 'citation.cfm?id={0}&'.format(article_id)\n",
    "parametrs = 'preflayout={0}'.format(mode_layout)\n",
    "url = domain + article + parametrs\n",
    "# https://dl.acm.org/downformats.cfm?id=2492591&parent_id=&expformat=bibtex\n",
    "url_download_bibtex = domain + 'downformats.cfm?id={0}&parent_id=&expformat={1}'.format(article_id, expformat)\n",
    "headers = {'User-Agent': 'Mozilla/5.0 (Macintosh; Intel Mac OS X 10.9; rv:45.0) Gecko/20100101 Firefox/45.0'}\n",
    "file = open('test.html', 'wb')\n",
    "\n",
    "print(url, url_download_bibtex, sep='\\n')"
   ]
  },
  {
   "cell_type": "code",
   "execution_count": 588,
   "metadata": {},
   "outputs": [],
   "source": [
    "response = requests.get(url=url, headers=headers)\n",
    "soup = bs4.BeautifulSoup(response.text, 'lxml')\n",
    "bibtex_file = open('bibtex.bib', 'w').write(requests.get(url=url_download_bibtex, headers=headers).text)\n",
    "bibtex_file = open('bibtex.bib', 'r')\n",
    "bibtex_dict = bibtexparser.load(bibtex_file).entries"
   ]
  },
  {
   "cell_type": "code",
   "execution_count": 589,
   "metadata": {},
   "outputs": [
    {
     "data": {
      "text/plain": [
       "({'doi': '10.1145/337180.337228',\n",
       "  'title': 'Principled Design of the Modern Web Architecture',\n",
       "  'venue': 'ICSE',\n",
       "  'year': '2000'},\n",
       " [{'ENTRYTYPE': 'inproceedings',\n",
       "   'ID': 'Fielding:2000:PDM:337180.337228',\n",
       "   'acmid': '337228',\n",
       "   'address': 'New York, NY, USA',\n",
       "   'author': 'Fielding, Roy T. and Taylor, Richard N.',\n",
       "   'booktitle': 'Proceedings of the 22Nd International Conference on Software Engineering',\n",
       "   'doi': '10.1145/337180.337228',\n",
       "   'isbn': '1-58113-206-9',\n",
       "   'keywords': 'WWW, software architectural style, software architecture',\n",
       "   'location': 'Limerick, Ireland',\n",
       "   'numpages': '10',\n",
       "   'pages': '407--416',\n",
       "   'publisher': 'ACM',\n",
       "   'series': \"ICSE '00\",\n",
       "   'title': 'Principled Design of the Modern Web Architecture',\n",
       "   'url': 'http://doi.acm.org/10.1145/337180.337228',\n",
       "   'year': '2000'}])"
      ]
     },
     "execution_count": 589,
     "metadata": {},
     "output_type": "execute_result"
    }
   ],
   "source": [
    "article_data = {}\n",
    "\n",
    "article_data['title'] = bibtex_dict[0].get('title', None)\n",
    "article_data['doi'] = bibtex_dict[0].get('doi', None) \n",
    "article_data['year'] = bibtex_dict[0].get('year', None)\n",
    "\n",
    "if bibtex_dict[0].get('series', None):\n",
    "    article_data['venue'] = bibtex_dict[0].get('series', None).split()[0]\n",
    "else:\n",
    "    article_data['venue'] = None\n",
    "\n",
    "article_data, bibtex_dict"
   ]
  },
  {
   "cell_type": "code",
   "execution_count": 590,
   "metadata": {},
   "outputs": [
    {
     "data": {
      "text/plain": [
       "{'authors': [{'name': 'Roy T. Fielding',\n",
       "   'url': 'https://dl.acm.org/author_page.cfm?id=81100283787&coll=DL&dl=ACM&trk=0'},\n",
       "  {'name': 'Richard N. Taylor',\n",
       "   'url': 'https://dl.acm.org/author_page.cfm?id=81452609528&coll=DL&dl=ACM&trk=0'}],\n",
       " 'doi': '10.1145/337180.337228',\n",
       " 'title': 'Principled Design of the Modern Web Architecture',\n",
       " 'venue': 'ICSE',\n",
       " 'year': '2000'}"
      ]
     },
     "execution_count": 590,
     "metadata": {},
     "output_type": "execute_result"
    }
   ],
   "source": [
    "divmain = soup.find('div', id='divmain')\n",
    "\n",
    "authors_tags = divmain.find_all('td', {'style': 'padding-right:3px;', 'valign': 'top',  'nowrap': 'nowrap'})\n",
    "authors = []\n",
    "\n",
    "for author_tag in authors_tags:\n",
    "    name = author_tag.text\n",
    "    authors.append({'name': name.strip(),\n",
    "                    'url': domain + author_tag.find('a')['href']})\n",
    "    \n",
    "article_data['authors'] = authors\n",
    "article_data"
   ]
  },
  {
   "cell_type": "code",
   "execution_count": 591,
   "metadata": {},
   "outputs": [
    {
     "data": {
      "text/plain": [
       "{'abstract': 'The World Wide Web has succeeded in large part because its software architecture has been designed to meet the needs of an Internet-scale distributed hypermedia system. The modern Web architecture emphasizes scalability of component interactions, generality of interfaces, independent deployment of components, and intermediary components to reduce interaction latency, enforce security, and encapsulate legacy systems. In this paper, we introduce the Representational State Transfer (REST) architectural style, developed as an abstract model of the Web architecture to guide our redesign and definition of the Hypertext Transfer Protocol and Uniform Resource Identifiers. We describe the software engineering principles guiding REST and the interaction constraints chosen to retain those principles, contrasting them to the constraints of other architectural styles. We then compare the abstract model to the currently deployed Web architecture in order to elicit mismatches between the existing protocols and the applications they are intended to support.',\n",
       " 'authors': [{'name': 'Roy T. Fielding',\n",
       "   'url': 'https://dl.acm.org/author_page.cfm?id=81100283787&coll=DL&dl=ACM&trk=0'},\n",
       "  {'name': 'Richard N. Taylor',\n",
       "   'url': 'https://dl.acm.org/author_page.cfm?id=81452609528&coll=DL&dl=ACM&trk=0'}],\n",
       " 'doi': '10.1145/337180.337228',\n",
       " 'title': 'Principled Design of the Modern Web Architecture',\n",
       " 'venue': 'ICSE',\n",
       " 'year': '2000'}"
      ]
     },
     "execution_count": 591,
     "metadata": {},
     "output_type": "execute_result"
    }
   ],
   "source": [
    "layout = soup.find('div', {'class': 'layout'})\n",
    "flatbody = layout.find('div', {'class': 'flatbody'})\n",
    "\n",
    "abstract = flatbody.text.strip()\n",
    "article_data['abstract'] = abstract\n",
    "\n",
    "article_data"
   ]
  },
  {
   "cell_type": "code",
   "execution_count": 607,
   "metadata": {},
   "outputs": [
    {
     "data": {
      "text/plain": [
       "{'abstract': 'The World Wide Web has succeeded in large part because its software architecture has been designed to meet the needs of an Internet-scale distributed hypermedia system. The modern Web architecture emphasizes scalability of component interactions, generality of interfaces, independent deployment of components, and intermediary components to reduce interaction latency, enforce security, and encapsulate legacy systems. In this paper, we introduce the Representational State Transfer (REST) architectural style, developed as an abstract model of the Web architecture to guide our redesign and definition of the Hypertext Transfer Protocol and Uniform Resource Identifiers. We describe the software engineering principles guiding REST and the interaction constraints chosen to retain those principles, contrasting them to the constraints of other architectural styles. We then compare the abstract model to the currently deployed Web architecture in order to elicit mismatches between the existing protocols and the applications they are intended to support.',\n",
       " 'authors': [{'name': 'Roy T. Fielding',\n",
       "   'url': 'https://dl.acm.org/author_page.cfm?id=81100283787&coll=DL&dl=ACM&trk=0'},\n",
       "  {'name': 'Richard N. Taylor',\n",
       "   'url': 'https://dl.acm.org/author_page.cfm?id=81452609528&coll=DL&dl=ACM&trk=0'}],\n",
       " 'doi': '10.1145/337180.337228',\n",
       " 'title': 'Principled Design of the Modern Web Architecture',\n",
       " 'venue': {'name': 'ICSE', 'url': 'https://dl.acm.org/event.cfm?id=RE228'},\n",
       " 'year': '2000'}"
      ]
     },
     "execution_count": 607,
     "metadata": {},
     "output_type": "execute_result"
    }
   ],
   "source": [
    "td = soup.find('td', string='Conference').nextSibling.nextSibling\n",
    "venue = td.strong.text.strip()\n",
    "\n",
    "url_conference = td.a['href']\n",
    "\n",
    "article_data['venue'] = {'name': venue,\n",
    "                        'url': domain + url_conference}\n",
    "\n",
    "article_data"
   ]
  }
 ],
 "metadata": {
  "kernelspec": {
   "display_name": "Python 3",
   "language": "python",
   "name": "python3"
  },
  "language_info": {
   "codemirror_mode": {
    "name": "ipython",
    "version": 3
   },
   "file_extension": ".py",
   "mimetype": "text/x-python",
   "name": "python",
   "nbconvert_exporter": "python",
   "pygments_lexer": "ipython3",
   "version": "3.6.4"
  }
 },
 "nbformat": 4,
 "nbformat_minor": 2
}
