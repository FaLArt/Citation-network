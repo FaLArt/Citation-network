{
 "cells": [
  {
   "cell_type": "code",
   "execution_count": 363,
   "metadata": {},
   "outputs": [],
   "source": [
    "import bs4, requests, re, bibtexparser"
   ]
  },
  {
   "cell_type": "code",
   "execution_count": 548,
   "metadata": {},
   "outputs": [
    {
     "name": "stdout",
     "output_type": "stream",
     "text": [
      "https://dl.acm.org/citation.cfm?id=3106246&preflayout=flat\n",
      "https://dl.acm.org/downformats.cfm?id=3106246&parent_id=&expformat=bibtex\n"
     ]
    }
   ],
   "source": [
    "mode_layout = 'flat'\n",
    "article_id = '3106246'\n",
    "expformat = 'bibtex'\n",
    "\n",
    "domain = 'https://dl.acm.org/'\n",
    "article = 'citation.cfm?id={0}&'.format(article_id)\n",
    "parametrs = 'preflayout={0}'.format(mode_layout)\n",
    "url = domain + article + parametrs\n",
    "# https://dl.acm.org/downformats.cfm?id=2492591&parent_id=&expformat=bibtex\n",
    "url_download_bibtex = domain + 'downformats.cfm?id={0}&parent_id=&expformat={1}'.format(article_id, expformat)\n",
    "headers = {'User-Agent': 'Mozilla/5.0 (Macintosh; Intel Mac OS X 10.9; rv:45.0) Gecko/20100101 Firefox/45.0'}\n",
    "file = open('test.html', 'wb')\n",
    "\n",
    "print(url, url_download_bibtex, sep='\\n')"
   ]
  },
  {
   "cell_type": "code",
   "execution_count": 549,
   "metadata": {},
   "outputs": [],
   "source": [
    "response = requests.get(url=url, headers=headers)\n",
    "soup = bs4.BeautifulSoup(response.text, 'lxml')\n",
    "bibtex_file = open('bibtex.bib', 'w').write(requests.get(url=url_download_bibtex, headers=headers).text)\n",
    "bibtex_file = open('bibtex.bib', 'r')\n",
    "bibtex_dict = bibtexparser.load(bibtex_file).entries"
   ]
  },
  {
   "cell_type": "code",
   "execution_count": 560,
   "metadata": {},
   "outputs": [
    {
     "data": {
      "text/plain": [
       "({'doi': '10.1145/3106237.3106246',\n",
       "  'title': 'Why Modern Open Source Projects Fail',\n",
       "  'venue': 'ESEC/FSE',\n",
       "  'year': '2017'},\n",
       " [{'ENTRYTYPE': 'inproceedings',\n",
       "   'ID': 'Coelho:2017:WMO:3106237.3106246',\n",
       "   'acmid': '3106246',\n",
       "   'address': 'New York, NY, USA',\n",
       "   'author': 'Coelho, Jailton and Valente, Marco Tulio',\n",
       "   'booktitle': 'Proceedings of the 2017 11th Joint Meeting on Foundations of Software Engineering',\n",
       "   'doi': '10.1145/3106237.3106246',\n",
       "   'isbn': '978-1-4503-5105-8',\n",
       "   'keywords': 'GitHub, Open Source Software, Project failure',\n",
       "   'location': 'Paderborn, Germany',\n",
       "   'numpages': '11',\n",
       "   'pages': '186--196',\n",
       "   'publisher': 'ACM',\n",
       "   'series': 'ESEC/FSE 2017',\n",
       "   'title': 'Why Modern Open Source Projects Fail',\n",
       "   'url': 'http://doi.acm.org/10.1145/3106237.3106246',\n",
       "   'year': '2017'}])"
      ]
     },
     "execution_count": 560,
     "metadata": {},
     "output_type": "execute_result"
    }
   ],
   "source": [
    "article_data = {}\n",
    "\n",
    "article_data['title'] = bibtex_dict[0].get('title', None)\n",
    "article_data['doi'] = bibtex_dict[0].get('doi', None) \n",
    "article_data['year'] = bibtex_dict[0].get('year', None)\n",
    "\n",
    "if bibtex_dict[0].get('series', None):\n",
    "    article_data['venue'] = bibtex_dict[0].get('series', None).split()[0]\n",
    "else:\n",
    "    article_data['venue'] = None\n",
    "\n",
    "article_data, bibtex_dict"
   ]
  },
  {
   "cell_type": "code",
   "execution_count": 551,
   "metadata": {},
   "outputs": [
    {
     "data": {
      "text/plain": [
       "{'authors': [{'name': 'Jailton Coelho',\n",
       "   'url': 'https://dl.acm.org/author_page.cfm?id=99659190960&coll=DL&dl=ACM&trk=0'},\n",
       "  {'name': 'Marco Tulio Valente',\n",
       "   'url': 'https://dl.acm.org/author_page.cfm?id=81452608597&coll=DL&dl=ACM&trk=0'}],\n",
       " 'doi': '10.1145/3106237.3106246',\n",
       " 'title': 'Why Modern Open Source Projects Fail',\n",
       " 'year': '2017'}"
      ]
     },
     "execution_count": 551,
     "metadata": {},
     "output_type": "execute_result"
    }
   ],
   "source": [
    "divmain = soup.find('div', id='divmain')\n",
    "\n",
    "authors_tags = divmain.find_all('td', {'style': 'padding-right:3px;', 'valign': 'top',  'nowrap': 'nowrap'})\n",
    "authors = []\n",
    "\n",
    "for author_tag in authors_tags:\n",
    "    name = author_tag.text\n",
    "    authors.append({'name': name.strip(),\n",
    "                    'url': domain + author_tag.find('a')['href']})\n",
    "    \n",
    "article_data['authors'] = authors\n",
    "article_data"
   ]
  },
  {
   "cell_type": "code",
   "execution_count": 552,
   "metadata": {},
   "outputs": [
    {
     "data": {
      "text/plain": [
       "{'abstract': 'Open source is experiencing a renaissance period, due to the appearance of modern platforms and workflows for developing and maintaining public code. As a result, developers are creating open source software at speeds never seen before. Consequently, these projects are also facing unprecedented mortality rates. To better understand the reasons for the failure of modern open source projects, this paper describes the results of a survey with the maintainers of 104 popular GitHub systems that have been deprecated. We provide a set of nine reasons for the failure of these open source projects. We also show that some maintenance practices---specifically the adoption of contributing guidelines and continuous integration---have an important association with a project failure or success. Finally, we discuss and reveal the principal strategies developers have tried to overcome the failure of the studied projects.',\n",
       " 'authors': [{'name': 'Jailton Coelho',\n",
       "   'url': 'https://dl.acm.org/author_page.cfm?id=99659190960&coll=DL&dl=ACM&trk=0'},\n",
       "  {'name': 'Marco Tulio Valente',\n",
       "   'url': 'https://dl.acm.org/author_page.cfm?id=81452608597&coll=DL&dl=ACM&trk=0'}],\n",
       " 'doi': '10.1145/3106237.3106246',\n",
       " 'title': 'Why Modern Open Source Projects Fail',\n",
       " 'year': '2017'}"
      ]
     },
     "execution_count": 552,
     "metadata": {},
     "output_type": "execute_result"
    }
   ],
   "source": [
    "layout = soup.find('div', {'class': 'layout'})\n",
    "flatbody = layout.find('div', {'class': 'flatbody'})\n",
    "\n",
    "abstract = flatbody.text.strip()\n",
    "article_data['abstract'] = abstract\n",
    "\n",
    "article_data"
   ]
  }
 ],
 "metadata": {
  "kernelspec": {
   "display_name": "Python 3",
   "language": "python",
   "name": "python3"
  },
  "language_info": {
   "codemirror_mode": {
    "name": "ipython",
    "version": 3
   },
   "file_extension": ".py",
   "mimetype": "text/x-python",
   "name": "python",
   "nbconvert_exporter": "python",
   "pygments_lexer": "ipython3",
   "version": "3.6.4"
  }
 },
 "nbformat": 4,
 "nbformat_minor": 2
}
