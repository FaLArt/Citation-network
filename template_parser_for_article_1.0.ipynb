{
 "cells": [
  {
   "cell_type": "code",
   "execution_count": 363,
   "metadata": {},
   "outputs": [],
   "source": [
    "import bs4, requests, re, bibtexparser"
   ]
  },
  {
   "cell_type": "code",
   "execution_count": 644,
   "metadata": {},
   "outputs": [
    {
     "name": "stdout",
     "output_type": "stream",
     "text": [
      "https://dl.acm.org/citation.cfm?id=1882373&preflayout=flat\n",
      "https://dl.acm.org/downformats.cfm?id=1882373&parent_id=&expformat=bibtex\n"
     ]
    }
   ],
   "source": [
    "mode_layout = 'flat'\n",
    "article_id = '1882373'\n",
    "expformat = 'bibtex'\n",
    "\n",
    "domain = 'https://dl.acm.org/'\n",
    "article = 'citation.cfm?id={0}&'.format(article_id)\n",
    "parametrs = 'preflayout={0}'.format(mode_layout)\n",
    "url = domain + article + parametrs\n",
    "# https://dl.acm.org/downformats.cfm?id=2492591&parent_id=&expformat=bibtex\n",
    "url_download_bibtex = domain + 'downformats.cfm?id={0}&parent_id=&expformat={1}'.format(article_id, expformat)\n",
    "headers = {'User-Agent': 'Mozilla/5.0 (Macintosh; Intel Mac OS X 10.9; rv:45.0) Gecko/20100101 Firefox/45.0'}\n",
    "file = open('test.html', 'wb')\n",
    "\n",
    "print(url, url_download_bibtex, sep='\\n')"
   ]
  },
  {
   "cell_type": "code",
   "execution_count": 645,
   "metadata": {},
   "outputs": [],
   "source": [
    "response = requests.get(url=url, headers=headers)\n",
    "soup = bs4.BeautifulSoup(response.text, 'lxml')\n",
    "bibtex_file = open('bibtex.bib', 'w').write(requests.get(url=url_download_bibtex, headers=headers).text)\n",
    "bibtex_file = open('bibtex.bib', 'r')\n",
    "bibtex_dict = bibtexparser.load(bibtex_file).entries"
   ]
  },
  {
   "cell_type": "code",
   "execution_count": 646,
   "metadata": {},
   "outputs": [
    {
     "data": {
      "text/plain": [
       "({'doi': '10.1145/1882362.1882373',\n",
       "  'id': '1882373',\n",
       "  'title': 'Managing Technical Debt in Software-reliant Systems',\n",
       "  'url': 'https://dl.acm.org/citation.cfm?id=1882373&preflayout=flat',\n",
       "  'year': '2010'},\n",
       " [{'ENTRYTYPE': 'inproceedings',\n",
       "   'ID': 'Brown:2010:MTD:1882362.1882373',\n",
       "   'acmid': '1882373',\n",
       "   'address': 'New York, NY, USA',\n",
       "   'author': 'Brown, Nanette and Cai, Yuanfang and Guo, Yuepu and Kazman, Rick and Kim, Miryung and Kruchten, Philippe and Lim, Erin and MacCormack, Alan and Nord, Robert and Ozkaya, Ipek and Sangwan, Raghvinder and Seaman, Carolyn and Sullivan, Kevin and Zazworka, Nico',\n",
       "   'booktitle': 'Proceedings of the FSE/SDP Workshop on Future of Software Engineering Research',\n",
       "   'doi': '10.1145/1882362.1882373',\n",
       "   'isbn': '978-1-4503-0427-6',\n",
       "   'keywords': 'cost-benefit analysis, design decision trade-off, large-scale system development, software metrics, technical debt',\n",
       "   'location': 'Santa Fe, New Mexico, USA',\n",
       "   'numpages': '6',\n",
       "   'pages': '47--52',\n",
       "   'publisher': 'ACM',\n",
       "   'series': \"FoSER '10\",\n",
       "   'title': 'Managing Technical Debt in Software-reliant Systems',\n",
       "   'url': 'http://doi.acm.org/10.1145/1882362.1882373',\n",
       "   'year': '2010'}])"
      ]
     },
     "execution_count": 646,
     "metadata": {},
     "output_type": "execute_result"
    }
   ],
   "source": [
    "article_data = {}\n",
    "\n",
    "article_data['id'] = article_id\n",
    "article_data['url'] = url\n",
    "article_data['title'] = bibtex_dict[0].get('title', None)\n",
    "article_data['doi'] = bibtex_dict[0].get('doi', None) \n",
    "article_data['year'] = bibtex_dict[0].get('year', None)\n",
    "\n",
    "article_data, bibtex_dict"
   ]
  },
  {
   "cell_type": "code",
   "execution_count": 647,
   "metadata": {},
   "outputs": [
    {
     "data": {
      "text/plain": [
       "{'authors': [{'name': 'Nanette Brown',\n",
       "   'url': 'https://dl.acm.org/author_page.cfm?id=81472641102&coll=DL&dl=ACM&trk=0'},\n",
       "  {'name': 'Yuanfang Cai',\n",
       "   'url': 'https://dl.acm.org/author_page.cfm?id=81350599209&coll=DL&dl=ACM&trk=0'},\n",
       "  {'name': 'Yuepu Guo',\n",
       "   'url': 'https://dl.acm.org/author_page.cfm?id=81375596470&coll=DL&dl=ACM&trk=0'},\n",
       "  {'name': 'Rick Kazman',\n",
       "   'url': 'https://dl.acm.org/author_page.cfm?id=81100391310&coll=DL&dl=ACM&trk=0'},\n",
       "  {'name': 'Miryung Kim',\n",
       "   'url': 'https://dl.acm.org/author_page.cfm?id=81335492829&coll=DL&dl=ACM&trk=0'},\n",
       "  {'name': 'Philippe Kruchten',\n",
       "   'url': 'https://dl.acm.org/author_page.cfm?id=81414594403&coll=DL&dl=ACM&trk=0'},\n",
       "  {'name': 'Erin Lim',\n",
       "   'url': 'https://dl.acm.org/author_page.cfm?id=81472652512&coll=DL&dl=ACM&trk=0'},\n",
       "  {'name': 'Alan MacCormack',\n",
       "   'url': 'https://dl.acm.org/author_page.cfm?id=81100187120&coll=DL&dl=ACM&trk=0'},\n",
       "  {'name': 'Robert Nord',\n",
       "   'url': 'https://dl.acm.org/author_page.cfm?id=81332518853&coll=DL&dl=ACM&trk=0'},\n",
       "  {'name': 'Ipek Ozkaya',\n",
       "   'url': 'https://dl.acm.org/author_page.cfm?id=81100382151&coll=DL&dl=ACM&trk=0'},\n",
       "  {'name': 'Raghvinder Sangwan',\n",
       "   'url': 'https://dl.acm.org/author_page.cfm?id=81100299007&coll=DL&dl=ACM&trk=0'},\n",
       "  {'name': 'Carolyn Seaman',\n",
       "   'url': 'https://dl.acm.org/author_page.cfm?id=81100311335&coll=DL&dl=ACM&trk=0'},\n",
       "  {'name': 'Kevin Sullivan',\n",
       "   'url': 'https://dl.acm.org/author_page.cfm?id=81100395111&coll=DL&dl=ACM&trk=0'},\n",
       "  {'name': 'Nico Zazworka',\n",
       "   'url': 'https://dl.acm.org/author_page.cfm?id=81331507960&coll=DL&dl=ACM&trk=0'}],\n",
       " 'doi': '10.1145/1882362.1882373',\n",
       " 'id': '1882373',\n",
       " 'title': 'Managing Technical Debt in Software-reliant Systems',\n",
       " 'url': 'https://dl.acm.org/citation.cfm?id=1882373&preflayout=flat',\n",
       " 'year': '2010'}"
      ]
     },
     "execution_count": 647,
     "metadata": {},
     "output_type": "execute_result"
    }
   ],
   "source": [
    "divmain = soup.find('div', id='divmain')\n",
    "\n",
    "authors_tags = divmain.find_all('td', {'style': 'padding-right:3px;', 'valign': 'top',  'nowrap': 'nowrap'})\n",
    "authors = []\n",
    "\n",
    "for author_tag in authors_tags:\n",
    "    name = author_tag.text\n",
    "    authors.append({'name': name.strip(),\n",
    "                    'url': domain + author_tag.find('a')['href']})\n",
    "    \n",
    "article_data['authors'] = authors\n",
    "article_data"
   ]
  },
  {
   "cell_type": "code",
   "execution_count": 648,
   "metadata": {},
   "outputs": [
    {
     "data": {
      "text/plain": [
       "{'abstract': 'Delivering increasingly complex software-reliant systems demands better ways to manage the long-term effects of short-term expedients. The technical debt metaphor is gaining significant traction in the agile development community as a way to understand and communicate such issues. The idea is that developers sometimes accept compromises in a system in one dimension (e.g., modularity) to meet an urgent demand in some other dimension (e.g., a deadline), and that such compromises incur a \"debt\": on which \"interest\" has to be paid and which the \"principal\" should be repaid at some point for the long-term health of the project. We argue that the software engineering research community has an opportunity to study and improve this concept. We can offer software engineers a foundation for managing such trade-offs based on models of their economic impacts. Therefore, we propose managing technical debt as a part of the future research agenda for the software engineering field.',\n",
       " 'authors': [{'name': 'Nanette Brown',\n",
       "   'url': 'https://dl.acm.org/author_page.cfm?id=81472641102&coll=DL&dl=ACM&trk=0'},\n",
       "  {'name': 'Yuanfang Cai',\n",
       "   'url': 'https://dl.acm.org/author_page.cfm?id=81350599209&coll=DL&dl=ACM&trk=0'},\n",
       "  {'name': 'Yuepu Guo',\n",
       "   'url': 'https://dl.acm.org/author_page.cfm?id=81375596470&coll=DL&dl=ACM&trk=0'},\n",
       "  {'name': 'Rick Kazman',\n",
       "   'url': 'https://dl.acm.org/author_page.cfm?id=81100391310&coll=DL&dl=ACM&trk=0'},\n",
       "  {'name': 'Miryung Kim',\n",
       "   'url': 'https://dl.acm.org/author_page.cfm?id=81335492829&coll=DL&dl=ACM&trk=0'},\n",
       "  {'name': 'Philippe Kruchten',\n",
       "   'url': 'https://dl.acm.org/author_page.cfm?id=81414594403&coll=DL&dl=ACM&trk=0'},\n",
       "  {'name': 'Erin Lim',\n",
       "   'url': 'https://dl.acm.org/author_page.cfm?id=81472652512&coll=DL&dl=ACM&trk=0'},\n",
       "  {'name': 'Alan MacCormack',\n",
       "   'url': 'https://dl.acm.org/author_page.cfm?id=81100187120&coll=DL&dl=ACM&trk=0'},\n",
       "  {'name': 'Robert Nord',\n",
       "   'url': 'https://dl.acm.org/author_page.cfm?id=81332518853&coll=DL&dl=ACM&trk=0'},\n",
       "  {'name': 'Ipek Ozkaya',\n",
       "   'url': 'https://dl.acm.org/author_page.cfm?id=81100382151&coll=DL&dl=ACM&trk=0'},\n",
       "  {'name': 'Raghvinder Sangwan',\n",
       "   'url': 'https://dl.acm.org/author_page.cfm?id=81100299007&coll=DL&dl=ACM&trk=0'},\n",
       "  {'name': 'Carolyn Seaman',\n",
       "   'url': 'https://dl.acm.org/author_page.cfm?id=81100311335&coll=DL&dl=ACM&trk=0'},\n",
       "  {'name': 'Kevin Sullivan',\n",
       "   'url': 'https://dl.acm.org/author_page.cfm?id=81100395111&coll=DL&dl=ACM&trk=0'},\n",
       "  {'name': 'Nico Zazworka',\n",
       "   'url': 'https://dl.acm.org/author_page.cfm?id=81331507960&coll=DL&dl=ACM&trk=0'}],\n",
       " 'doi': '10.1145/1882362.1882373',\n",
       " 'id': '1882373',\n",
       " 'title': 'Managing Technical Debt in Software-reliant Systems',\n",
       " 'url': 'https://dl.acm.org/citation.cfm?id=1882373&preflayout=flat',\n",
       " 'year': '2010'}"
      ]
     },
     "execution_count": 648,
     "metadata": {},
     "output_type": "execute_result"
    }
   ],
   "source": [
    "layout = soup.find('div', {'class': 'layout'})\n",
    "flatbody = layout.find('div', {'class': 'flatbody'})\n",
    "\n",
    "abstract = flatbody.text.strip()\n",
    "article_data['abstract'] = abstract\n",
    "\n",
    "article_data"
   ]
  },
  {
   "cell_type": "code",
   "execution_count": 649,
   "metadata": {},
   "outputs": [
    {
     "data": {
      "text/plain": [
       "{'abstract': 'Delivering increasingly complex software-reliant systems demands better ways to manage the long-term effects of short-term expedients. The technical debt metaphor is gaining significant traction in the agile development community as a way to understand and communicate such issues. The idea is that developers sometimes accept compromises in a system in one dimension (e.g., modularity) to meet an urgent demand in some other dimension (e.g., a deadline), and that such compromises incur a \"debt\": on which \"interest\" has to be paid and which the \"principal\" should be repaid at some point for the long-term health of the project. We argue that the software engineering research community has an opportunity to study and improve this concept. We can offer software engineers a foundation for managing such trade-offs based on models of their economic impacts. Therefore, we propose managing technical debt as a part of the future research agenda for the software engineering field.',\n",
       " 'authors': [{'name': 'Nanette Brown',\n",
       "   'url': 'https://dl.acm.org/author_page.cfm?id=81472641102&coll=DL&dl=ACM&trk=0'},\n",
       "  {'name': 'Yuanfang Cai',\n",
       "   'url': 'https://dl.acm.org/author_page.cfm?id=81350599209&coll=DL&dl=ACM&trk=0'},\n",
       "  {'name': 'Yuepu Guo',\n",
       "   'url': 'https://dl.acm.org/author_page.cfm?id=81375596470&coll=DL&dl=ACM&trk=0'},\n",
       "  {'name': 'Rick Kazman',\n",
       "   'url': 'https://dl.acm.org/author_page.cfm?id=81100391310&coll=DL&dl=ACM&trk=0'},\n",
       "  {'name': 'Miryung Kim',\n",
       "   'url': 'https://dl.acm.org/author_page.cfm?id=81335492829&coll=DL&dl=ACM&trk=0'},\n",
       "  {'name': 'Philippe Kruchten',\n",
       "   'url': 'https://dl.acm.org/author_page.cfm?id=81414594403&coll=DL&dl=ACM&trk=0'},\n",
       "  {'name': 'Erin Lim',\n",
       "   'url': 'https://dl.acm.org/author_page.cfm?id=81472652512&coll=DL&dl=ACM&trk=0'},\n",
       "  {'name': 'Alan MacCormack',\n",
       "   'url': 'https://dl.acm.org/author_page.cfm?id=81100187120&coll=DL&dl=ACM&trk=0'},\n",
       "  {'name': 'Robert Nord',\n",
       "   'url': 'https://dl.acm.org/author_page.cfm?id=81332518853&coll=DL&dl=ACM&trk=0'},\n",
       "  {'name': 'Ipek Ozkaya',\n",
       "   'url': 'https://dl.acm.org/author_page.cfm?id=81100382151&coll=DL&dl=ACM&trk=0'},\n",
       "  {'name': 'Raghvinder Sangwan',\n",
       "   'url': 'https://dl.acm.org/author_page.cfm?id=81100299007&coll=DL&dl=ACM&trk=0'},\n",
       "  {'name': 'Carolyn Seaman',\n",
       "   'url': 'https://dl.acm.org/author_page.cfm?id=81100311335&coll=DL&dl=ACM&trk=0'},\n",
       "  {'name': 'Kevin Sullivan',\n",
       "   'url': 'https://dl.acm.org/author_page.cfm?id=81100395111&coll=DL&dl=ACM&trk=0'},\n",
       "  {'name': 'Nico Zazworka',\n",
       "   'url': 'https://dl.acm.org/author_page.cfm?id=81331507960&coll=DL&dl=ACM&trk=0'}],\n",
       " 'doi': '10.1145/1882362.1882373',\n",
       " 'id': '1882373',\n",
       " 'title': 'Managing Technical Debt in Software-reliant Systems',\n",
       " 'url': 'https://dl.acm.org/citation.cfm?id=1882373&preflayout=flat',\n",
       " 'venue': {'name': 'FSE', 'url': 'https://dl.acm.org/event.cfm?id=RE201'},\n",
       " 'year': '2010'}"
      ]
     },
     "execution_count": 649,
     "metadata": {},
     "output_type": "execute_result"
    }
   ],
   "source": [
    "td = soup.find('td', string='Conference').nextSibling.nextSibling\n",
    "venue = td.strong.text.strip()\n",
    "\n",
    "url_conference = td.a['href']\n",
    "\n",
    "article_data['venue'] = {'name': venue,\n",
    "                        'url': domain + url_conference}\n",
    "\n",
    "article_data"
   ]
  },
  {
   "cell_type": "code",
   "execution_count": 650,
   "metadata": {},
   "outputs": [
    {
     "data": {
      "text/plain": [
       "{'abstract': 'Delivering increasingly complex software-reliant systems demands better ways to manage the long-term effects of short-term expedients. The technical debt metaphor is gaining significant traction in the agile development community as a way to understand and communicate such issues. The idea is that developers sometimes accept compromises in a system in one dimension (e.g., modularity) to meet an urgent demand in some other dimension (e.g., a deadline), and that such compromises incur a \"debt\": on which \"interest\" has to be paid and which the \"principal\" should be repaid at some point for the long-term health of the project. We argue that the software engineering research community has an opportunity to study and improve this concept. We can offer software engineers a foundation for managing such trade-offs based on models of their economic impacts. Therefore, we propose managing technical debt as a part of the future research agenda for the software engineering field.',\n",
       " 'authors': [{'name': 'Nanette Brown',\n",
       "   'url': 'https://dl.acm.org/author_page.cfm?id=81472641102&coll=DL&dl=ACM&trk=0'},\n",
       "  {'name': 'Yuanfang Cai',\n",
       "   'url': 'https://dl.acm.org/author_page.cfm?id=81350599209&coll=DL&dl=ACM&trk=0'},\n",
       "  {'name': 'Yuepu Guo',\n",
       "   'url': 'https://dl.acm.org/author_page.cfm?id=81375596470&coll=DL&dl=ACM&trk=0'},\n",
       "  {'name': 'Rick Kazman',\n",
       "   'url': 'https://dl.acm.org/author_page.cfm?id=81100391310&coll=DL&dl=ACM&trk=0'},\n",
       "  {'name': 'Miryung Kim',\n",
       "   'url': 'https://dl.acm.org/author_page.cfm?id=81335492829&coll=DL&dl=ACM&trk=0'},\n",
       "  {'name': 'Philippe Kruchten',\n",
       "   'url': 'https://dl.acm.org/author_page.cfm?id=81414594403&coll=DL&dl=ACM&trk=0'},\n",
       "  {'name': 'Erin Lim',\n",
       "   'url': 'https://dl.acm.org/author_page.cfm?id=81472652512&coll=DL&dl=ACM&trk=0'},\n",
       "  {'name': 'Alan MacCormack',\n",
       "   'url': 'https://dl.acm.org/author_page.cfm?id=81100187120&coll=DL&dl=ACM&trk=0'},\n",
       "  {'name': 'Robert Nord',\n",
       "   'url': 'https://dl.acm.org/author_page.cfm?id=81332518853&coll=DL&dl=ACM&trk=0'},\n",
       "  {'name': 'Ipek Ozkaya',\n",
       "   'url': 'https://dl.acm.org/author_page.cfm?id=81100382151&coll=DL&dl=ACM&trk=0'},\n",
       "  {'name': 'Raghvinder Sangwan',\n",
       "   'url': 'https://dl.acm.org/author_page.cfm?id=81100299007&coll=DL&dl=ACM&trk=0'},\n",
       "  {'name': 'Carolyn Seaman',\n",
       "   'url': 'https://dl.acm.org/author_page.cfm?id=81100311335&coll=DL&dl=ACM&trk=0'},\n",
       "  {'name': 'Kevin Sullivan',\n",
       "   'url': 'https://dl.acm.org/author_page.cfm?id=81100395111&coll=DL&dl=ACM&trk=0'},\n",
       "  {'name': 'Nico Zazworka',\n",
       "   'url': 'https://dl.acm.org/author_page.cfm?id=81331507960&coll=DL&dl=ACM&trk=0'}],\n",
       " 'cited_by': ['2461005',\n",
       "  '2020979',\n",
       "  '1986051',\n",
       "  '2666040',\n",
       "  '2666047',\n",
       "  '2663298',\n",
       "  '3120468',\n",
       "  '1985371',\n",
       "  '2507326',\n",
       "  '2465492',\n",
       "  '2666038',\n",
       "  '3120466',\n",
       "  '2752497',\n",
       "  '2629458',\n",
       "  '2929685',\n",
       "  '2897023',\n",
       "  '2663306',\n",
       "  '2487071',\n",
       "  '2025166',\n",
       "  '2372297',\n",
       "  '2992071',\n",
       "  '2666041',\n",
       "  '2663308',\n",
       "  '2976806',\n",
       "  '2602581',\n",
       "  '2896940',\n",
       "  '3143454',\n",
       "  '2362009',\n",
       "  '2663665',\n",
       "  '3106202',\n",
       "  '1985364',\n",
       "  '2337499',\n",
       "  '3188709',\n",
       "  '2741493',\n",
       "  '2663304',\n",
       "  '3124371',\n",
       "  '3124524',\n",
       "  '2666039',\n",
       "  '2992069',\n",
       "  '2884822',\n",
       "  '2889218',\n",
       "  '2741488',\n",
       "  '2666046',\n",
       "  '2992070',\n",
       "  '1985372',\n",
       "  '2639042',\n",
       "  '2901742',\n",
       "  '2896999',\n",
       "  '2819162',\n",
       "  '2983983',\n",
       "  '2992068',\n",
       "  '2579311',\n",
       "  '2889224',\n",
       "  '2829727',\n",
       "  '1985366',\n",
       "  '2996904',\n",
       "  '2588697',\n",
       "  '2591085',\n",
       "  '2347698',\n",
       "  '2818805',\n",
       "  '2662587',\n",
       "  '2786806',\n",
       "  '2535670',\n",
       "  '2663307',\n",
       "  '2671146',\n",
       "  '1960307',\n",
       "  '2666747',\n",
       "  '2458023',\n",
       "  '2962119',\n",
       "  '3028563',\n",
       "  '2609041',\n",
       "  '3179309',\n",
       "  '2671146',\n",
       "  '2911053',\n",
       "  '2671146'],\n",
       " 'doi': '10.1145/1882362.1882373',\n",
       " 'id': '1882373',\n",
       " 'title': 'Managing Technical Debt in Software-reliant Systems',\n",
       " 'url': 'https://dl.acm.org/citation.cfm?id=1882373&preflayout=flat',\n",
       " 'venue': {'name': 'FSE', 'url': 'https://dl.acm.org/event.cfm?id=RE201'},\n",
       " 'year': '2010'}"
      ]
     },
     "execution_count": 650,
     "metadata": {},
     "output_type": "execute_result"
    }
   ],
   "source": [
    "flatbody = soup.find_all('div', {'class': 'flatbody'})\n",
    "cited_by = []\n",
    "for a in flatbody[3].find_all('a'):\n",
    "    cited_by.append(a['href'].split('=')[-1])\n",
    "    \n",
    "article_data['cited_by'] = cited_by\n",
    "\n",
    "article_data"
   ]
  },
  {
   "cell_type": "code",
   "execution_count": null,
   "metadata": {},
   "outputs": [],
   "source": []
  }
 ],
 "metadata": {
  "kernelspec": {
   "display_name": "Python 3",
   "language": "python",
   "name": "python3"
  },
  "language_info": {
   "codemirror_mode": {
    "name": "ipython",
    "version": 3
   },
   "file_extension": ".py",
   "mimetype": "text/x-python",
   "name": "python",
   "nbconvert_exporter": "python",
   "pygments_lexer": "ipython3",
   "version": "3.6.4"
  }
 },
 "nbformat": 4,
 "nbformat_minor": 2
}
