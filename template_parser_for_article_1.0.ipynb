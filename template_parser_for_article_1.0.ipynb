{
 "cells": [
  {
   "cell_type": "code",
   "execution_count": null,
   "metadata": {},
   "outputs": [],
   "source": [
    "import bs4, requests, re\n",
    "from bibtexparser.bparser import BibTexParser"
   ]
  },
  {
   "cell_type": "code",
   "execution_count": 37,
   "metadata": {},
   "outputs": [
    {
     "name": "stdout",
     "output_type": "stream",
     "text": [
      "https://dl.acm.org/citation.cfm?id=3121245&preflayout=flat\n",
      "https://dl.acm.org/downformats.cfm?id=3121245&parent_id=&expformat=bibtex\n"
     ]
    }
   ],
   "source": [
    "mode_layout = 'flat'\n",
    "article_id = '3121245'\n",
    "expformat = 'bibtex'\n",
    "\n",
    "domain = 'https://dl.acm.org/'\n",
    "article = 'citation.cfm?id={0}&'.format(article_id)\n",
    "parametrs = 'preflayout={0}'.format(mode_layout)\n",
    "url = domain + article + parametrs\n",
    "# https://dl.acm.org/downformats.cfm?id=2492591&parent_id=&expformat=bibtex\n",
    "url_download_bibtex = domain + 'downformats.cfm?id={0}&parent_id=&expformat={1}'.format(article_id, expformat)\n",
    "headers = {'User-Agent': 'Mozilla/5.0 (Macintosh; Intel Mac OS X 10.9; rv:45.0) Gecko/20100101 Firefox/45.0'}\n",
    "\n",
    "print(url, url_download_bibtex, sep='\\n')"
   ]
  },
  {
   "cell_type": "code",
   "execution_count": 38,
   "metadata": {},
   "outputs": [],
   "source": [
    "response = requests.get(url=url, headers=headers)\n",
    "soup = bs4.BeautifulSoup(response.text, 'lxml')\n",
    "\n",
    "bibtex_file = open('bibtex.bib', 'w').write(requests.get(url=url_download_bibtex, headers=headers).text)\n",
    "bibtex_file = open('bibtex.bib', 'r')\n",
    "bibtex_dict = BibTexParser(interpolate_strings=False).parse_file(bibtex_file).entries"
   ]
  },
  {
   "cell_type": "code",
   "execution_count": 39,
   "metadata": {},
   "outputs": [
    {
     "data": {
      "text/plain": [
       "[{'ENTRYTYPE': 'proceedings',\n",
       "  'ID': 'Vos:2017:3121245',\n",
       "  'address': 'New York, NY, USA',\n",
       "  'isbn': '978-1-4503-5155-3',\n",
       "  'location': 'Paderborn, Germany',\n",
       "  'publisher': 'ACM',\n",
       "  'title': 'A-TEST 2017: Proceedings of the 8th ACM SIGSOFT International Workshop on Automated Software Testing',\n",
       "  'year': '2017'}]"
      ]
     },
     "execution_count": 39,
     "metadata": {},
     "output_type": "execute_result"
    }
   ],
   "source": [
    "bibtex_dict"
   ]
  },
  {
   "cell_type": "code",
   "execution_count": 40,
   "metadata": {},
   "outputs": [
    {
     "data": {
      "text/plain": [
       "({'doi': None,\n",
       "  'id': '3121245',\n",
       "  'title': 'A-TEST 2017: Proceedings of the 8th ACM SIGSOFT International Workshop on Automated Software Testing',\n",
       "  'url': 'https://dl.acm.org/citation.cfm?id=3121245&preflayout=flat',\n",
       "  'year': '2017'},\n",
       " [{'ENTRYTYPE': 'proceedings',\n",
       "   'ID': 'Vos:2017:3121245',\n",
       "   'address': 'New York, NY, USA',\n",
       "   'isbn': '978-1-4503-5155-3',\n",
       "   'location': 'Paderborn, Germany',\n",
       "   'publisher': 'ACM',\n",
       "   'title': 'A-TEST 2017: Proceedings of the 8th ACM SIGSOFT International Workshop on Automated Software Testing',\n",
       "   'year': '2017'}])"
      ]
     },
     "execution_count": 40,
     "metadata": {},
     "output_type": "execute_result"
    }
   ],
   "source": [
    "article_data = {}\n",
    "\n",
    "article_data['id'] = article_id\n",
    "article_data['url'] = url\n",
    "article_data['title'] = bibtex_dict[0].get('title', None)\n",
    "article_data['doi'] = bibtex_dict[0].get('doi', None) \n",
    "article_data['year'] = bibtex_dict[0].get('year', None)\n",
    "\n",
    "article_data, bibtex_dict"
   ]
  },
  {
   "cell_type": "code",
   "execution_count": 41,
   "metadata": {},
   "outputs": [
    {
     "data": {
      "text/plain": [
       "{'authors': [{'name': 'Tanja Vos',\n",
       "   'url': 'https://dl.acm.org/author_page.cfm?id=81100095172&coll=DL&dl=ACM&trk=0'},\n",
       "  {'name': 'Sigrid Eldh',\n",
       "   'url': 'https://dl.acm.org/author_page.cfm?id=81317493250&coll=DL&dl=ACM&trk=0'},\n",
       "  {'name': 'Wishnu Prasetya',\n",
       "   'url': 'https://dl.acm.org/author_page.cfm?id=81385600565&coll=DL&dl=ACM&trk=0'}],\n",
       " 'doi': None,\n",
       " 'id': '3121245',\n",
       " 'title': 'A-TEST 2017: Proceedings of the 8th ACM SIGSOFT International Workshop on Automated Software Testing',\n",
       " 'url': 'https://dl.acm.org/citation.cfm?id=3121245&preflayout=flat',\n",
       " 'year': '2017'}"
      ]
     },
     "execution_count": 41,
     "metadata": {},
     "output_type": "execute_result"
    }
   ],
   "source": [
    "divmain = soup.find('div', id='divmain')\n",
    "\n",
    "authors_tags = divmain.find_all('td', {'style': 'padding-right:3px;', 'valign': 'top',  'nowrap': 'nowrap'})\n",
    "authors = []\n",
    "\n",
    "for author_tag in authors_tags:\n",
    "    name = author_tag.text\n",
    "    authors.append({'name': name.strip(),\n",
    "                    'url': domain + author_tag.find('a')['href']})\n",
    "    \n",
    "article_data['authors'] = authors\n",
    "article_data"
   ]
  },
  {
   "cell_type": "code",
   "execution_count": 42,
   "metadata": {},
   "outputs": [
    {
     "data": {
      "text/plain": [
       "{'abstract': 'An abstract is not available.',\n",
       " 'authors': [{'name': 'Tanja Vos',\n",
       "   'url': 'https://dl.acm.org/author_page.cfm?id=81100095172&coll=DL&dl=ACM&trk=0'},\n",
       "  {'name': 'Sigrid Eldh',\n",
       "   'url': 'https://dl.acm.org/author_page.cfm?id=81317493250&coll=DL&dl=ACM&trk=0'},\n",
       "  {'name': 'Wishnu Prasetya',\n",
       "   'url': 'https://dl.acm.org/author_page.cfm?id=81385600565&coll=DL&dl=ACM&trk=0'}],\n",
       " 'doi': None,\n",
       " 'id': '3121245',\n",
       " 'title': 'A-TEST 2017: Proceedings of the 8th ACM SIGSOFT International Workshop on Automated Software Testing',\n",
       " 'url': 'https://dl.acm.org/citation.cfm?id=3121245&preflayout=flat',\n",
       " 'year': '2017'}"
      ]
     },
     "execution_count": 42,
     "metadata": {},
     "output_type": "execute_result"
    }
   ],
   "source": [
    "layout = soup.find('div', {'class': 'layout'})\n",
    "flatbody = layout.find('div', {'class': 'flatbody'})\n",
    "\n",
    "abstract = flatbody.text.strip()\n",
    "article_data['abstract'] = abstract\n",
    "\n",
    "article_data"
   ]
  },
  {
   "cell_type": "code",
   "execution_count": 43,
   "metadata": {},
   "outputs": [
    {
     "data": {
      "text/plain": [
       "{'abstract': 'An abstract is not available.',\n",
       " 'authors': [{'name': 'Tanja Vos',\n",
       "   'url': 'https://dl.acm.org/author_page.cfm?id=81100095172&coll=DL&dl=ACM&trk=0'},\n",
       "  {'name': 'Sigrid Eldh',\n",
       "   'url': 'https://dl.acm.org/author_page.cfm?id=81317493250&coll=DL&dl=ACM&trk=0'},\n",
       "  {'name': 'Wishnu Prasetya',\n",
       "   'url': 'https://dl.acm.org/author_page.cfm?id=81385600565&coll=DL&dl=ACM&trk=0'}],\n",
       " 'doi': None,\n",
       " 'id': '3121245',\n",
       " 'title': 'A-TEST 2017: Proceedings of the 8th ACM SIGSOFT International Workshop on Automated Software Testing',\n",
       " 'url': 'https://dl.acm.org/citation.cfm?id=3121245&preflayout=flat',\n",
       " 'venue': {'name': 'FSE', 'url': 'https://dl.acm.org/event.cfm?id=RE201'},\n",
       " 'year': '2017'}"
      ]
     },
     "execution_count": 43,
     "metadata": {},
     "output_type": "execute_result"
    }
   ],
   "source": [
    "td = soup.find('td', string='Conference')\n",
    "\n",
    "if td:\n",
    "    td = td.nextSibling.nextSibling\n",
    "    venue = td.strong.text.strip()\n",
    "    url_conference = td.a['href']\n",
    "else:\n",
    "    venue = None\n",
    "    url_conference = 'None'\n",
    "\n",
    "article_data['venue'] = {'name': venue,\n",
    "                        'url': domain + url_conference}\n",
    "\n",
    "article_data"
   ]
  },
  {
   "cell_type": "code",
   "execution_count": 45,
   "metadata": {},
   "outputs": [
    {
     "data": {
      "text/plain": [
       "{'abstract': 'An abstract is not available.',\n",
       " 'authors': [{'name': 'Tanja Vos',\n",
       "   'url': 'https://dl.acm.org/author_page.cfm?id=81100095172&coll=DL&dl=ACM&trk=0'},\n",
       "  {'name': 'Sigrid Eldh',\n",
       "   'url': 'https://dl.acm.org/author_page.cfm?id=81317493250&coll=DL&dl=ACM&trk=0'},\n",
       "  {'name': 'Wishnu Prasetya',\n",
       "   'url': 'https://dl.acm.org/author_page.cfm?id=81385600565&coll=DL&dl=ACM&trk=0'}],\n",
       " 'cited_by': [],\n",
       " 'doi': None,\n",
       " 'id': '3121245',\n",
       " 'title': 'A-TEST 2017: Proceedings of the 8th ACM SIGSOFT International Workshop on Automated Software Testing',\n",
       " 'url': 'https://dl.acm.org/citation.cfm?id=3121245&preflayout=flat',\n",
       " 'venue': {'name': 'FSE', 'url': 'https://dl.acm.org/event.cfm?id=RE201'},\n",
       " 'year': '2017'}"
      ]
     },
     "execution_count": 45,
     "metadata": {},
     "output_type": "execute_result"
    }
   ],
   "source": [
    "flatbody = soup.find_all('div', {'class': 'flatbody'})\n",
    "cited_by = []\n",
    "for a in flatbody[3].find_all('a'):\n",
    "    cited_by.append(a['href'].split('=')[-1])\n",
    "    \n",
    "article_data['cited_by'] = cited_by\n",
    "\n",
    "article_data"
   ]
  }
 ],
 "metadata": {
  "kernelspec": {
   "display_name": "Python 3",
   "language": "python",
   "name": "python3"
  },
  "language_info": {
   "codemirror_mode": {
    "name": "ipython",
    "version": 3
   },
   "file_extension": ".py",
   "mimetype": "text/x-python",
   "name": "python",
   "nbconvert_exporter": "python",
   "pygments_lexer": "ipython3",
   "version": "3.6.4"
  }
 },
 "nbformat": 4,
 "nbformat_minor": 2
}
