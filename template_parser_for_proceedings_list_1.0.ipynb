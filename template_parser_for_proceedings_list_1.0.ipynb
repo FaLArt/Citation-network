{
 "cells": [
  {
   "cell_type": "code",
   "execution_count": 1,
   "metadata": {},
   "outputs": [],
   "source": [
    "import bs4, requests"
   ]
  },
  {
   "cell_type": "code",
   "execution_count": 2,
   "metadata": {},
   "outputs": [
    {
     "data": {
      "text/plain": [
       "'https://dl.acm.org/event_series.cfm?id=RE201&_cf_containerId=cf_layoutareapubs&_cf_nodebug=true&_cf_nocache=true&_cf_clientid=C3FE7A81D2B94946F9F673E2A6A2D243&_cf_rc=1'"
      ]
     },
     "execution_count": 2,
     "metadata": {},
     "output_type": "execute_result"
    }
   ],
   "source": [
    "domain = 'https://dl.acm.org/'\n",
    "event_id = 'RE201'\n",
    "publication_tab = '&_cf_containerId=cf_layoutareapubs&_cf_nodebug=true&_cf_nocache=true&_cf_clientid=C3FE7A81D2B94946F9F673E2A6A2D243&_cf_rc=1'\n",
    "headers = {'User-Agent': 'Mozilla/5.0 (Macintosh; Intel Mac OS X 10.9; rv:45.0) Gecko/20100101 Firefox/45.0'}\n",
    "\n",
    "event = 'event_series.cfm?id={0}'.format(event_id)\n",
    "url = domain + event + publication_tab\n",
    "\n",
    "url"
   ]
  },
  {
   "cell_type": "code",
   "execution_count": 4,
   "metadata": {},
   "outputs": [],
   "source": [
    "response = requests.get(url=url, headers=headers)\n",
    "soup = bs4.BeautifulSoup(response.text, 'lxml')"
   ]
  },
  {
   "cell_type": "code",
   "execution_count": 5,
   "metadata": {},
   "outputs": [
    {
     "data": {
      "text/plain": [
       "['3121245',\n '2994291',\n '2804322',\n '2024436',\n '1595768',\n '2804337',\n '2666539',\n '1294921',\n '2804345',\n '2661694',\n '2501553',\n '1316550',\n '3106237',\n '2786805',\n '2491411',\n '1595782',\n '1595696',\n '1287624',\n '1295014',\n '1081706',\n '940071',\n '503209',\n '318773',\n '267895',\n '1294904',\n '1081180',\n '1496653',\n '1882362',\n '2666581',\n '288408',\n '243327',\n '1294928',\n '1595800',\n '2804360',\n '2501543',\n '1595808',\n '1294948',\n '512035',\n '602461',\n '1858263',\n '1596473',\n '2945408',\n '2804371',\n '1151433',\n '2593822',\n '2666719',\n '1808920',\n '1454247',\n '1596486',\n '1292316',\n '1181195',\n '1123058',\n '142868',\n '99277',\n '64135',\n '24208',\n '800020',\n '2660517',\n '1210525',\n '1108473',\n '3121252',\n '2950290',\n '2635868',\n '2393596',\n '2025113',\n '1882291',\n '1453101',\n '1181775',\n '1029894',\n '587051',\n '355045',\n '288195',\n '239098',\n '222124',\n '193173',\n '256428',\n '125083',\n '800007',\n '1006147',\n '1596495',\n '1295074',\n '1188895',\n '2993283',\n '2804381',\n '2661685',\n '2501535',\n '2024645',\n '3121257',\n '2989238',\n '1294917',\n '1595836',\n '3121264',\n '2993259',\n '2501585',\n '2666990',\n '1454268',\n '1137661',\n '1029997',\n '1075405',\n '582128']"
      ]
     },
     "execution_count": 5,
     "metadata": {},
     "output_type": "execute_result"
    }
   ],
   "source": [
    "proceeding_ids = []\n",
    "\n",
    "uls = soup.find_all('ul')\n",
    "\n",
    "for ul in uls:\n",
    "    a = ul.find_all('a')\n",
    "    for href in a:\n",
    "        proceeding_ids.append(href['href'].split('=')[-1])\n",
    "\n",
    "proceeding_ids"
   ]
  }
 ],
 "metadata": {
  "kernelspec": {
   "display_name": "Python 2",
   "language": "python",
   "name": "python2"
  },
  "language_info": {
   "codemirror_mode": {
    "name": "ipython",
    "version": 2
   },
   "file_extension": ".py",
   "mimetype": "text/x-python",
   "name": "python",
   "nbconvert_exporter": "python",
   "pygments_lexer": "ipython2",
   "version": "2.7.14"
  }
 },
 "nbformat": 4,
 "nbformat_minor": 2
}
