{
 "cells": [
  {
   "cell_type": "code",
   "execution_count": null,
   "metadata": {},
   "outputs": [],
   "source": [
    "from pony import orm"
   ]
  },
  {
   "cell_type": "code",
   "execution_count": 44,
   "metadata": {},
   "outputs": [],
   "source": [
    "db = orm.Database()\n",
    "db.bind(provider='mysql', host='localhost', user='root', passwd='root', db='soc_net_analysis')"
   ]
  },
  {
   "cell_type": "code",
   "execution_count": 45,
   "metadata": {},
   "outputs": [],
   "source": [
    "class Venue(db.Entity):\n",
    "    venue_id = orm.PrimaryKey(int)\n",
    "    name = orm.Required(str)\n",
    "    venue__article_venue_id = orm.Set('Article')\n",
    "    \n",
    "class Article(db.Entity):\n",
    "    article_id = orm.PrimaryKey(int)\n",
    "    title = orm.Required(str)\n",
    "    abstract = orm.Required(str)\n",
    "    year = orm.Required(int)\n",
    "    venue_id = orm.Optional(Venue)   \n",
    "    article__citation_article_id = orm.Set('Citation', reverse='article_id')\n",
    "    article__citation_cited_by = orm.Set('Citation', reverse='cited_by')\n",
    "    article__author_article = orm.Set('AuthorArticle', reverse='article_id')\n",
    "\n",
    "class Citation(db.Entity):\n",
    "    citation_id = orm.PrimaryKey(int)\n",
    "    article_id = orm.Required(Article)\n",
    "    cited_by = orm.Required(Article)\n",
    "    \n",
    "class Author(db.Entity):\n",
    "    author_id = orm.PrimaryKey(int)\n",
    "    first_name = orm.Required(str)\n",
    "    last_name = orm.Required(str)\n",
    "    author__author_article = orm.Set('AuthorArticle', reverse='author_id')\n",
    "\n",
    "class AuthorArticle(db.Entity):\n",
    "    author_id = orm.Required(Author)\n",
    "    article_id = orm.Required(Article)"
   ]
  },
  {
   "cell_type": "code",
   "execution_count": 46,
   "metadata": {},
   "outputs": [],
   "source": [
    "db.generate_mapping(create_tables=True)"
   ]
  }
 ],
 "metadata": {
  "kernelspec": {
   "display_name": "Python 3",
   "language": "python",
   "name": "python3"
  },
  "language_info": {
   "codemirror_mode": {
    "name": "ipython",
    "version": 3
   },
   "file_extension": ".py",
   "mimetype": "text/x-python",
   "name": "python",
   "nbconvert_exporter": "python",
   "pygments_lexer": "ipython3",
   "version": "3.6.4"
  }
 },
 "nbformat": 4,
 "nbformat_minor": 2
}
