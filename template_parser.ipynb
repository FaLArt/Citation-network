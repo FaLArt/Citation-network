{
 "cells": [
  {
   "cell_type": "code",
   "execution_count": 131,
   "metadata": {},
   "outputs": [],
   "source": [
    "import bs4, requests, re"
   ]
  },
  {
   "cell_type": "code",
   "execution_count": 314,
   "metadata": {},
   "outputs": [
    {
     "data": {
      "text/plain": [
       "'https://dl.acm.org/citation.cfm?id=2492591&preflayout=flat'"
      ]
     },
     "execution_count": 314,
     "metadata": {},
     "output_type": "execute_result"
    }
   ],
   "source": [
    "domain = 'https://dl.acm.org/'\n",
    "article = 'citation.cfm?id=2492591&'\n",
    "parametrs = 'preflayout={0}'.format('flat')\n",
    "url = domain + article + parametrs\n",
    "headers = {'User-Agent': 'Mozilla/5.0 (Macintosh; Intel Mac OS X 10.9; rv:45.0) Gecko/20100101 Firefox/45.0'}\n",
    "file = open('test.html', 'wb')\n",
    "url"
   ]
  },
  {
   "cell_type": "code",
   "execution_count": 315,
   "metadata": {},
   "outputs": [],
   "source": [
    "response = requests.get(url=url, headers=headers)\n",
    "soup = bs4.BeautifulSoup(response.text, 'lxml')"
   ]
  },
  {
   "cell_type": "code",
   "execution_count": 316,
   "metadata": {},
   "outputs": [
    {
     "data": {
      "text/plain": [
       "'TUCAN: Twitter user centric ANalyzer'"
      ]
     },
     "execution_count": 316,
     "metadata": {},
     "output_type": "execute_result"
    }
   ],
   "source": [
    "divmain = soup.find('div', id='divmain')\n",
    "title = re.sub('[\\n]', '', divmain.contents[1].text)\n",
    "title"
   ]
  },
  {
   "cell_type": "code",
   "execution_count": 317,
   "metadata": {},
   "outputs": [
    {
     "data": {
      "text/plain": [
       "[{'first_name': 'Luigi',\n",
       "  'last_name': 'Grimaudo',\n",
       "  'url': 'https://dl.acm.org/author_page.cfm?id=81488669073&coll=DL&dl=ACM&trk=0'},\n",
       " {'first_name': 'Han',\n",
       "  'last_name': 'Song',\n",
       "  'url': 'https://dl.acm.org/author_page.cfm?id=82658705857&coll=DL&dl=ACM&trk=0'},\n",
       " {'first_name': 'Mario',\n",
       "  'last_name': 'Baldi',\n",
       "  'url': 'https://dl.acm.org/author_page.cfm?id=81100344302&coll=DL&dl=ACM&trk=0'},\n",
       " {'first_name': 'Marco',\n",
       "  'last_name': 'Mellia',\n",
       "  'url': 'https://dl.acm.org/author_page.cfm?id=81100044217&coll=DL&dl=ACM&trk=0'},\n",
       " {'first_name': 'Maurizio',\n",
       "  'last_name': 'Munafò',\n",
       "  'url': 'https://dl.acm.org/author_page.cfm?id=81100007293&coll=DL&dl=ACM&trk=0'}]"
      ]
     },
     "execution_count": 317,
     "metadata": {},
     "output_type": "execute_result"
    }
   ],
   "source": [
    "authors_tags = divmain.find_all('td', {'style': 'padding-right:3px;', 'valign': 'top',  'nowrap': 'nowrap'})\n",
    "authors = []\n",
    "\n",
    "for author_tag in authors_tags:\n",
    "    first_name, last_name = author_tag.text.split(' ')\n",
    "    authors.append({'first_name': first_name.strip(), \n",
    "                    'last_name': last_name.strip(), \n",
    "                    'url': domain + author_tag.find('a')['href']})\n",
    "    \n",
    "authors"
   ]
  },
  {
   "cell_type": "code",
   "execution_count": 241,
   "metadata": {},
   "outputs": [
    {
     "data": {
      "text/plain": [
       "'10.1145/2492517.2492591'"
      ]
     },
     "execution_count": 241,
     "metadata": {},
     "output_type": "execute_result"
    }
   ],
   "source": [
    "table = divmain.find('table', {'border': '0', 'class': 'medium-text', 'style': 'margin-left:5px;', 'cellpadding': '1', 'cellspacing': '0'})\n",
    "span = table.find('span', {'style': 'margin-left:10px;'})\n",
    "doi = span.text.strip().split('>')[1]\n",
    "doi"
   ]
  },
  {
   "cell_type": "code",
   "execution_count": 318,
   "metadata": {},
   "outputs": [
    {
     "data": {
      "text/plain": [
       "'2013'"
      ]
     },
     "execution_count": 318,
     "metadata": {},
     "output_type": "execute_result"
    }
   ],
   "source": [
    "td = table.find('td', {'style': 'padding-left:10px; padding-bottom:10px'})\n",
    "year = td.contents[4].split(',')[-1].strip()\n",
    "year"
   ]
  },
  {
   "cell_type": "code",
   "execution_count": 319,
   "metadata": {},
   "outputs": [
    {
     "data": {
      "text/plain": [
       "'Twitter has attracted millions of users that generate a humongous flow of information at constant pace. The research community has thus started proposing tools to extract meaningful information from tweets. In this paper, we take a different angle from the mainstream of previous works: we explicitly target the analysis of the timeline of tweets from \"single users\". We define a framework - named TUCAN - to compare information offered by the target users over time, and to pinpoint recurrent topics or topics of interest. First, tweets belonging to the same time window are aggregated into \"bird songs\". Several filtering procedures can be selected to remove stop-words and reduce noise. Then, each pair of bird songs is compared using a similarity score to automatically highlight the most common terms, thus highlighting recurrent or persistent topics. TUCAN can be naturally applied to compare bird song pairs generated from timelines of different users. By showing actual results for both public profiles and anonymous users, we show how TUCAN is useful to highlight meaningful information from a target user\\'s Twitter timeline.'"
      ]
     },
     "execution_count": 319,
     "metadata": {},
     "output_type": "execute_result"
    }
   ],
   "source": [
    "layout = soup.find('div', {'class': 'layout'}).find_all('div', {'style': 'display:inline'})\n",
    "abstract = layout[0].text.strip()\n",
    "abstract"
   ]
  },
  {
   "cell_type": "code",
   "execution_count": 321,
   "metadata": {},
   "outputs": [
    {
     "name": "stdout",
     "output_type": "stream",
     "text": [
      "@article{Notkin:2007:ATF:1281421.1281435,\n",
      " author = {Notkin, David},\n",
      " title = {ACM TOSEM: FAQs and Figures},\n",
      " journal = {SIGSOFT Softw. Eng. Notes},\n",
      " issue_date = {July 2007},\n",
      " volume = {32},\n",
      " number = {4},\n",
      " month = jul,\n",
      " year = {2007},\n",
      " issn = {0163-5948},\n",
      " pages = {8--8},\n",
      " numpages = {1},\n",
      " url = {http://doi.acm.org/10.1145/1281421.1281435},\n",
      " doi = {10.1145/1281421.1281435},\n",
      " acmid = {1281435},\n",
      " publisher = {ACM},\n",
      " address = {New York, NY, USA},\n",
      "}\n"
     ]
    }
   ],
   "source": [
    "file = requests.get(url='https://dl.acm.org/downformats.cfm?id=1281435&parent_id=1281421&expformat=bibtex', headers=headers)\n",
    "open('text.txt', 'w').write(file.text)\n",
    "print(file.text)"
   ]
  }
 ],
 "metadata": {
  "kernelspec": {
   "display_name": "Python 3",
   "language": "python",
   "name": "python3"
  },
  "language_info": {
   "codemirror_mode": {
    "name": "ipython",
    "version": 3
   },
   "file_extension": ".py",
   "mimetype": "text/x-python",
   "name": "python",
   "nbconvert_exporter": "python",
   "pygments_lexer": "ipython3",
   "version": "3.6.4"
  }
 },
 "nbformat": 4,
 "nbformat_minor": 2
}
