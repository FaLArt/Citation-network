{
 "cells": [
  {
   "cell_type": "code",
   "execution_count": 1,
   "metadata": {},
   "outputs": [],
   "source": [
    "import bs4, requests, re\n",
    "from bibtexparser.bparser import BibTexParser"
   ]
  },
  {
   "cell_type": "code",
   "execution_count": 2,
   "metadata": {},
   "outputs": [
    {
     "name": "stdout",
     "output_type": "stream",
     "text": [
      "https://dl.acm.org/citation.cfm?id=1882308&preflayout=flat\n",
      "https://dl.acm.org/downformats.cfm?id=1882308&parent_id=&expformat=bibtex\n"
     ]
    }
   ],
   "source": [
    "mode_layout = 'flat'\n",
    "article_id = '1882308'\n",
    "expformat = 'bibtex'\n",
    "\n",
    "domain = 'https://dl.acm.org/'\n",
    "article = 'citation.cfm?id={0}&'.format(article_id)\n",
    "parametrs = 'preflayout={0}'.format(mode_layout)\n",
    "url = domain + article + parametrs\n",
    "# https://dl.acm.org/downformats.cfm?id=2492591&parent_id=&expformat=bibtex\n",
    "url_download_bibtex = domain + 'downformats.cfm?id={0}&parent_id=&expformat={1}'.format(article_id, expformat)\n",
    "headers = {'User-Agent': 'Mozilla/5.0 (Macintosh; Intel Mac OS X 10.9; rv:45.0) Gecko/20100101 Firefox/45.0'}\n",
    "\n",
    "print(url, url_download_bibtex, sep='\\n')"
   ]
  },
  {
   "cell_type": "code",
   "execution_count": 3,
   "metadata": {},
   "outputs": [],
   "source": [
    "response = requests.get(url=url, headers=headers)\n",
    "soup = bs4.BeautifulSoup(response.text, 'lxml')\n",
    "\n",
    "bibtex_file = open('bibtex.bib', 'w').write(requests.get(url=url_download_bibtex, headers=headers).text)\n",
    "bibtex_file = open('bibtex.bib', 'r')\n",
    "bibtex_dict = BibTexParser(interpolate_strings=False).parse_file(bibtex_file).entries"
   ]
  },
  {
   "cell_type": "code",
   "execution_count": 4,
   "metadata": {},
   "outputs": [
    {
     "data": {
      "text/plain": [
       "[{'ENTRYTYPE': 'inproceedings',\n",
       "  'ID': 'Bachmann:2010:MLB:1882291.1882308',\n",
       "  'acmid': '1882308',\n",
       "  'address': 'New York, NY, USA',\n",
       "  'author': 'Bachmann, Adrian and Bird, Christian and Rahman, Foyzur and Devanbu, Premkumar and Bernstein, Abraham',\n",
       "  'booktitle': 'Proceedings of the Eighteenth ACM SIGSOFT International Symposium on Foundations of Software Engineering',\n",
       "  'doi': '10.1145/1882291.1882308',\n",
       "  'isbn': '978-1-60558-791-2',\n",
       "  'keywords': 'apache, bias, case study, manual annotation, tool',\n",
       "  'location': 'Santa Fe, New Mexico, USA',\n",
       "  'numpages': '10',\n",
       "  'pages': '97--106',\n",
       "  'publisher': 'ACM',\n",
       "  'series': \"FSE '10\",\n",
       "  'title': 'The Missing Links: Bugs and Bug-fix Commits',\n",
       "  'url': 'http://doi.acm.org/10.1145/1882291.1882308',\n",
       "  'year': '2010'}]"
      ]
     },
     "execution_count": 4,
     "metadata": {},
     "output_type": "execute_result"
    }
   ],
   "source": [
    "bibtex_dict"
   ]
  },
  {
   "cell_type": "code",
   "execution_count": 5,
   "metadata": {},
   "outputs": [
    {
     "data": {
      "text/plain": [
       "({'doi': '10.1145/1882291.1882308',\n",
       "  'id': '1882308',\n",
       "  'title': 'The Missing Links: Bugs and Bug-fix Commits',\n",
       "  'url': 'https://dl.acm.org/citation.cfm?id=1882308&preflayout=flat',\n",
       "  'year': '2010'},\n",
       " [{'ENTRYTYPE': 'inproceedings',\n",
       "   'ID': 'Bachmann:2010:MLB:1882291.1882308',\n",
       "   'acmid': '1882308',\n",
       "   'address': 'New York, NY, USA',\n",
       "   'author': 'Bachmann, Adrian and Bird, Christian and Rahman, Foyzur and Devanbu, Premkumar and Bernstein, Abraham',\n",
       "   'booktitle': 'Proceedings of the Eighteenth ACM SIGSOFT International Symposium on Foundations of Software Engineering',\n",
       "   'doi': '10.1145/1882291.1882308',\n",
       "   'isbn': '978-1-60558-791-2',\n",
       "   'keywords': 'apache, bias, case study, manual annotation, tool',\n",
       "   'location': 'Santa Fe, New Mexico, USA',\n",
       "   'numpages': '10',\n",
       "   'pages': '97--106',\n",
       "   'publisher': 'ACM',\n",
       "   'series': \"FSE '10\",\n",
       "   'title': 'The Missing Links: Bugs and Bug-fix Commits',\n",
       "   'url': 'http://doi.acm.org/10.1145/1882291.1882308',\n",
       "   'year': '2010'}])"
      ]
     },
     "execution_count": 5,
     "metadata": {},
     "output_type": "execute_result"
    }
   ],
   "source": [
    "article_data = {}\n",
    "\n",
    "article_data['id'] = article_id\n",
    "article_data['url'] = url\n",
    "article_data['title'] = bibtex_dict[0].get('title', None)\n",
    "article_data['doi'] = bibtex_dict[0].get('doi', None) \n",
    "article_data['year'] = bibtex_dict[0].get('year', None)\n",
    "\n",
    "article_data, bibtex_dict"
   ]
  },
  {
   "cell_type": "code",
   "execution_count": 8,
   "metadata": {},
   "outputs": [
    {
     "data": {
      "text/plain": [
       "{'authors_and_affiliations': [{'affiliation': {'name': 'University of Zurich, Zurich, Switzerland',\n",
       "    'url': 'https://dl.acm.org/inst_page.cfm?id=60012614'},\n",
       "   'name': 'Adrian Bachmann',\n",
       "   'url': 'https://dl.acm.org/author_page.cfm?id=81442607702&coll=DL&dl=ACM&trk=0'},\n",
       "  {'affiliation': {'name': 'University of California, Davis, CA, USA',\n",
       "    'url': 'https://dl.acm.org/inst_page.cfm?id=60014439'},\n",
       "   'name': 'Christian Bird',\n",
       "   'url': 'https://dl.acm.org/author_page.cfm?id=81450592307&coll=DL&dl=ACM&trk=0'},\n",
       "  {'affiliation': {'name': 'University of California, Davis, CA, USA',\n",
       "    'url': 'https://dl.acm.org/inst_page.cfm?id=60014439'},\n",
       "   'name': 'Foyzur Rahman',\n",
       "   'url': 'https://dl.acm.org/author_page.cfm?id=81472650950&coll=DL&dl=ACM&trk=0'},\n",
       "  {'affiliation': {'name': 'University of California, Davis, CA, USA',\n",
       "    'url': 'https://dl.acm.org/inst_page.cfm?id=60014439'},\n",
       "   'name': 'Premkumar Devanbu',\n",
       "   'url': 'https://dl.acm.org/author_page.cfm?id=81452608115&coll=DL&dl=ACM&trk=0'},\n",
       "  {'affiliation': {'name': 'University of Zurich, Zurich, Switzerland',\n",
       "    'url': 'https://dl.acm.org/inst_page.cfm?id=60012614'},\n",
       "   'name': 'Abraham Bernstein',\n",
       "   'url': 'https://dl.acm.org/author_page.cfm?id=81100134628&coll=DL&dl=ACM&trk=0'}],\n",
       " 'doi': '10.1145/1882291.1882308',\n",
       " 'id': '1882308',\n",
       " 'title': 'The Missing Links: Bugs and Bug-fix Commits',\n",
       " 'url': 'https://dl.acm.org/citation.cfm?id=1882308&preflayout=flat',\n",
       " 'year': '2010'}"
      ]
     },
     "execution_count": 8,
     "metadata": {},
     "output_type": "execute_result"
    }
   ],
   "source": [
    "divmain = soup.find('div', id='divmain')\n",
    "\n",
    "authors_tags = divmain.find_all('a', href=re.compile('author_page.cfm\\?id=*'))\n",
    "authors_and_affiliations = []\n",
    "\n",
    "affiliation_tags = divmain.find_all('a', href=re.compile('inst_page.cfm\\?id=*'))\n",
    "affiliations = []\n",
    "\n",
    "for author, affiliation in zip(authors_tags, affiliation_tags):\n",
    "    authors_and_affiliations.append({'name': re.sub('[\\'\\']', '', repr(author.text.strip())),\n",
    "                    'url': domain + author['href'],\n",
    "                    'affiliation': {'name': re.sub('[\\'\\']', '', repr(affiliation.text.strip())),\n",
    "                                    'url': domain + affiliation['href']}})\n",
    "\n",
    "article_data['authors_and_affiliations'] = authors_and_affiliations\n",
    "article_data"
   ]
  },
  {
   "cell_type": "code",
   "execution_count": 9,
   "metadata": {},
   "outputs": [
    {
     "data": {
      "text/plain": [
       "{'abstract': 'Empirical studies of software defects rely on links between bug databases and program code repositories. This linkage is typically based on bug-fixes identified in developer-entered commit logs. Unfortunately, developers do not always report which commits perform bug-fixes. Prior work suggests that such links can be a biased sample of the entire population of fixed bugs. The validity of statistical hypotheses-testing based on linked data could well be affected by bias. Given the wide use of linked defect data, it is vital to gauge the nature and extent of the bias, and try to develop testable theories and models of the bias. To do this, we must establish ground truth: manually analyze a complete version history corpus, and nail down those commits that fix defects, and those that do not. This is a diffcult task, requiring an expert to compare versions, analyze changes, find related bugs in the bug database, reverse-engineer missing links, and finally record their work for use later. This effort must be repeated for hundreds of commits to obtain a useful sample of reported and unreported bug-fix commits. We make several contributions. First, we present Linkster, a tool to facilitate link reverse-engineering. Second, we evaluate this tool, engaging a core developer of the Apache HTTP web server project to exhaustively annotate 493 commits that occurred during a six week period. Finally, we analyze this comprehensive data set, showing that there are serious and consequential problems in the data.',\n",
       " 'authors_and_affiliations': [{'affiliation': {'name': 'University of Zurich, Zurich, Switzerland',\n",
       "    'url': 'https://dl.acm.org/inst_page.cfm?id=60012614'},\n",
       "   'name': 'Adrian Bachmann',\n",
       "   'url': 'https://dl.acm.org/author_page.cfm?id=81442607702&coll=DL&dl=ACM&trk=0'},\n",
       "  {'affiliation': {'name': 'University of California, Davis, CA, USA',\n",
       "    'url': 'https://dl.acm.org/inst_page.cfm?id=60014439'},\n",
       "   'name': 'Christian Bird',\n",
       "   'url': 'https://dl.acm.org/author_page.cfm?id=81450592307&coll=DL&dl=ACM&trk=0'},\n",
       "  {'affiliation': {'name': 'University of California, Davis, CA, USA',\n",
       "    'url': 'https://dl.acm.org/inst_page.cfm?id=60014439'},\n",
       "   'name': 'Foyzur Rahman',\n",
       "   'url': 'https://dl.acm.org/author_page.cfm?id=81472650950&coll=DL&dl=ACM&trk=0'},\n",
       "  {'affiliation': {'name': 'University of California, Davis, CA, USA',\n",
       "    'url': 'https://dl.acm.org/inst_page.cfm?id=60014439'},\n",
       "   'name': 'Premkumar Devanbu',\n",
       "   'url': 'https://dl.acm.org/author_page.cfm?id=81452608115&coll=DL&dl=ACM&trk=0'},\n",
       "  {'affiliation': {'name': 'University of Zurich, Zurich, Switzerland',\n",
       "    'url': 'https://dl.acm.org/inst_page.cfm?id=60012614'},\n",
       "   'name': 'Abraham Bernstein',\n",
       "   'url': 'https://dl.acm.org/author_page.cfm?id=81100134628&coll=DL&dl=ACM&trk=0'}],\n",
       " 'doi': '10.1145/1882291.1882308',\n",
       " 'id': '1882308',\n",
       " 'title': 'The Missing Links: Bugs and Bug-fix Commits',\n",
       " 'url': 'https://dl.acm.org/citation.cfm?id=1882308&preflayout=flat',\n",
       " 'year': '2010'}"
      ]
     },
     "execution_count": 9,
     "metadata": {},
     "output_type": "execute_result"
    }
   ],
   "source": [
    "layout = soup.find('div', {'class': 'layout'})\n",
    "flatbody = layout.find('div', {'class': 'flatbody'})\n",
    "\n",
    "abstract = flatbody.text.strip()\n",
    "article_data['abstract'] = abstract\n",
    "\n",
    "article_data"
   ]
  },
  {
   "cell_type": "code",
   "execution_count": 10,
   "metadata": {},
   "outputs": [
    {
     "data": {
      "text/plain": [
       "{'abstract': 'Empirical studies of software defects rely on links between bug databases and program code repositories. This linkage is typically based on bug-fixes identified in developer-entered commit logs. Unfortunately, developers do not always report which commits perform bug-fixes. Prior work suggests that such links can be a biased sample of the entire population of fixed bugs. The validity of statistical hypotheses-testing based on linked data could well be affected by bias. Given the wide use of linked defect data, it is vital to gauge the nature and extent of the bias, and try to develop testable theories and models of the bias. To do this, we must establish ground truth: manually analyze a complete version history corpus, and nail down those commits that fix defects, and those that do not. This is a diffcult task, requiring an expert to compare versions, analyze changes, find related bugs in the bug database, reverse-engineer missing links, and finally record their work for use later. This effort must be repeated for hundreds of commits to obtain a useful sample of reported and unreported bug-fix commits. We make several contributions. First, we present Linkster, a tool to facilitate link reverse-engineering. Second, we evaluate this tool, engaging a core developer of the Apache HTTP web server project to exhaustively annotate 493 commits that occurred during a six week period. Finally, we analyze this comprehensive data set, showing that there are serious and consequential problems in the data.',\n",
       " 'authors_and_affiliations': [{'affiliation': {'name': 'University of Zurich, Zurich, Switzerland',\n",
       "    'url': 'https://dl.acm.org/inst_page.cfm?id=60012614'},\n",
       "   'name': 'Adrian Bachmann',\n",
       "   'url': 'https://dl.acm.org/author_page.cfm?id=81442607702&coll=DL&dl=ACM&trk=0'},\n",
       "  {'affiliation': {'name': 'University of California, Davis, CA, USA',\n",
       "    'url': 'https://dl.acm.org/inst_page.cfm?id=60014439'},\n",
       "   'name': 'Christian Bird',\n",
       "   'url': 'https://dl.acm.org/author_page.cfm?id=81450592307&coll=DL&dl=ACM&trk=0'},\n",
       "  {'affiliation': {'name': 'University of California, Davis, CA, USA',\n",
       "    'url': 'https://dl.acm.org/inst_page.cfm?id=60014439'},\n",
       "   'name': 'Foyzur Rahman',\n",
       "   'url': 'https://dl.acm.org/author_page.cfm?id=81472650950&coll=DL&dl=ACM&trk=0'},\n",
       "  {'affiliation': {'name': 'University of California, Davis, CA, USA',\n",
       "    'url': 'https://dl.acm.org/inst_page.cfm?id=60014439'},\n",
       "   'name': 'Premkumar Devanbu',\n",
       "   'url': 'https://dl.acm.org/author_page.cfm?id=81452608115&coll=DL&dl=ACM&trk=0'},\n",
       "  {'affiliation': {'name': 'University of Zurich, Zurich, Switzerland',\n",
       "    'url': 'https://dl.acm.org/inst_page.cfm?id=60012614'},\n",
       "   'name': 'Abraham Bernstein',\n",
       "   'url': 'https://dl.acm.org/author_page.cfm?id=81100134628&coll=DL&dl=ACM&trk=0'}],\n",
       " 'doi': '10.1145/1882291.1882308',\n",
       " 'id': '1882308',\n",
       " 'title': 'The Missing Links: Bugs and Bug-fix Commits',\n",
       " 'url': 'https://dl.acm.org/citation.cfm?id=1882308&preflayout=flat',\n",
       " 'venue': {'name': 'FSE', 'url': 'https://dl.acm.org/event.cfm?id=RE201'},\n",
       " 'year': '2010'}"
      ]
     },
     "execution_count": 10,
     "metadata": {},
     "output_type": "execute_result"
    }
   ],
   "source": [
    "td = soup.find('td', string='Conference')\n",
    "\n",
    "if td:\n",
    "    td = td.nextSibling.nextSibling\n",
    "    venue = td.strong.text.strip()\n",
    "    url_conference = td.a['href']\n",
    "else:\n",
    "    venue = None\n",
    "    url_conference = 'None'\n",
    "\n",
    "article_data['venue'] = {'name': venue,\n",
    "                        'url': domain + url_conference}\n",
    "\n",
    "article_data"
   ]
  },
  {
   "cell_type": "code",
   "execution_count": 11,
   "metadata": {},
   "outputs": [
    {
     "data": {
      "text/plain": [
       "{'abstract': 'Empirical studies of software defects rely on links between bug databases and program code repositories. This linkage is typically based on bug-fixes identified in developer-entered commit logs. Unfortunately, developers do not always report which commits perform bug-fixes. Prior work suggests that such links can be a biased sample of the entire population of fixed bugs. The validity of statistical hypotheses-testing based on linked data could well be affected by bias. Given the wide use of linked defect data, it is vital to gauge the nature and extent of the bias, and try to develop testable theories and models of the bias. To do this, we must establish ground truth: manually analyze a complete version history corpus, and nail down those commits that fix defects, and those that do not. This is a diffcult task, requiring an expert to compare versions, analyze changes, find related bugs in the bug database, reverse-engineer missing links, and finally record their work for use later. This effort must be repeated for hundreds of commits to obtain a useful sample of reported and unreported bug-fix commits. We make several contributions. First, we present Linkster, a tool to facilitate link reverse-engineering. Second, we evaluate this tool, engaging a core developer of the Apache HTTP web server project to exhaustively annotate 493 commits that occurred during a six week period. Finally, we analyze this comprehensive data set, showing that there are serious and consequential problems in the data.',\n",
       " 'authors_and_affiliations': [{'affiliation': {'name': 'University of Zurich, Zurich, Switzerland',\n",
       "    'url': 'https://dl.acm.org/inst_page.cfm?id=60012614'},\n",
       "   'name': 'Adrian Bachmann',\n",
       "   'url': 'https://dl.acm.org/author_page.cfm?id=81442607702&coll=DL&dl=ACM&trk=0'},\n",
       "  {'affiliation': {'name': 'University of California, Davis, CA, USA',\n",
       "    'url': 'https://dl.acm.org/inst_page.cfm?id=60014439'},\n",
       "   'name': 'Christian Bird',\n",
       "   'url': 'https://dl.acm.org/author_page.cfm?id=81450592307&coll=DL&dl=ACM&trk=0'},\n",
       "  {'affiliation': {'name': 'University of California, Davis, CA, USA',\n",
       "    'url': 'https://dl.acm.org/inst_page.cfm?id=60014439'},\n",
       "   'name': 'Foyzur Rahman',\n",
       "   'url': 'https://dl.acm.org/author_page.cfm?id=81472650950&coll=DL&dl=ACM&trk=0'},\n",
       "  {'affiliation': {'name': 'University of California, Davis, CA, USA',\n",
       "    'url': 'https://dl.acm.org/inst_page.cfm?id=60014439'},\n",
       "   'name': 'Premkumar Devanbu',\n",
       "   'url': 'https://dl.acm.org/author_page.cfm?id=81452608115&coll=DL&dl=ACM&trk=0'},\n",
       "  {'affiliation': {'name': 'University of Zurich, Zurich, Switzerland',\n",
       "    'url': 'https://dl.acm.org/inst_page.cfm?id=60012614'},\n",
       "   'name': 'Abraham Bernstein',\n",
       "   'url': 'https://dl.acm.org/author_page.cfm?id=81100134628&coll=DL&dl=ACM&trk=0'}],\n",
       " 'cited_by': ['2568241',\n",
       "  '2820603',\n",
       "  '2820548',\n",
       "  '2635929',\n",
       "  '1985475',\n",
       "  '2786866',\n",
       "  '2820287',\n",
       "  '2597105',\n",
       "  '2491418',\n",
       "  '2843059',\n",
       "  '2820290',\n",
       "  '1984661',\n",
       "  '2597074',\n",
       "  '2597147',\n",
       "  '3155584',\n",
       "  '2911436',\n",
       "  '2393669',\n",
       "  '2992445',\n",
       "  '2962605',\n",
       "  '1882352',\n",
       "  '2901754',\n",
       "  '3049895',\n",
       "  '2025121',\n",
       "  '2635920',\n",
       "  '2938035',\n",
       "  '2818805',\n",
       "  '2818852',\n",
       "  '2025120',\n",
       "  '2642997',\n",
       "  '2972960',\n",
       "  '2487113',\n",
       "  '2393671',\n",
       "  '2769792',\n",
       "  '2737184',\n",
       "  '2591122',\n",
       "  '2926321',\n",
       "  '3097459',\n",
       "  '2819194',\n",
       "  '2664454',\n",
       "  '3057959',\n",
       "  '2962617',\n",
       "  '3035169',\n",
       "  '2635870',\n",
       "  '2487145',\n",
       "  '2486840',\n",
       "  '2729403',\n",
       "  '2337343',\n",
       "  '2886235'],\n",
       " 'doi': '10.1145/1882291.1882308',\n",
       " 'id': '1882308',\n",
       " 'title': 'The Missing Links: Bugs and Bug-fix Commits',\n",
       " 'url': 'https://dl.acm.org/citation.cfm?id=1882308&preflayout=flat',\n",
       " 'venue': {'name': 'FSE', 'url': 'https://dl.acm.org/event.cfm?id=RE201'},\n",
       " 'year': '2010'}"
      ]
     },
     "execution_count": 11,
     "metadata": {},
     "output_type": "execute_result"
    }
   ],
   "source": [
    "flatbody = soup.find_all('div', {'class': 'flatbody'})\n",
    "cited_by = []\n",
    "for a in flatbody[3].find_all('a'):\n",
    "    cited_by.append(a['href'].split('=')[-1])\n",
    "    \n",
    "article_data['cited_by'] = cited_by\n",
    "\n",
    "article_data"
   ]
  }
 ],
 "metadata": {
  "kernelspec": {
   "display_name": "Python 3",
   "language": "python",
   "name": "python3"
  },
  "language_info": {
   "codemirror_mode": {
    "name": "ipython",
    "version": 3
   },
   "file_extension": ".py",
   "mimetype": "text/x-python",
   "name": "python",
   "nbconvert_exporter": "python",
   "pygments_lexer": "ipython3",
   "version": "3.6.4"
  }
 },
 "nbformat": 4,
 "nbformat_minor": 2
}
