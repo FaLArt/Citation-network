{
 "cells": [
  {
   "cell_type": "code",
   "execution_count": 8,
   "metadata": {},
   "outputs": [],
   "source": [
    "import bs4, requests, re\n",
    "from bibtexparser.bparser import BibTexParser"
   ]
  },
  {
   "cell_type": "code",
   "execution_count": 19,
   "metadata": {},
   "outputs": [
    {
     "name": "stdout",
     "output_type": "stream",
     "text": [
      "https://dl.acm.org/citation.cfm?id=24216&preflayout=flat\n",
      "https://dl.acm.org/downformats.cfm?id=24216&parent_id=&expformat=bibtex\n"
     ]
    }
   ],
   "source": [
    "mode_layout = 'flat'\n",
    "article_id = '24216'\n",
    "expformat = 'bibtex'\n",
    "\n",
    "domain = 'https://dl.acm.org/'\n",
    "article = 'citation.cfm?id={0}&'.format(article_id)\n",
    "parametrs = 'preflayout={0}'.format(mode_layout)\n",
    "url = domain + article + parametrs\n",
    "# https://dl.acm.org/downformats.cfm?id=2492591&parent_id=&expformat=bibtex\n",
    "url_download_bibtex = domain + 'downformats.cfm?id={0}&parent_id=&expformat={1}'.format(article_id, expformat)\n",
    "headers = {'User-Agent': 'Mozilla/5.0 (Macintosh; Intel Mac OS X 10.9; rv:45.0) Gecko/20100101 Firefox/45.0'}\n",
    "\n",
    "print(url, url_download_bibtex, sep='\\n')"
   ]
  },
  {
   "cell_type": "code",
   "execution_count": 10,
   "metadata": {},
   "outputs": [],
   "source": [
    "response = requests.get(url=url, headers=headers)\n",
    "soup = bs4.BeautifulSoup(response.text, 'lxml')\n",
    "\n",
    "bibtex_file = open('bibtex.bib', 'w').write(requests.get(url=url_download_bibtex, headers=headers).text)\n",
    "bibtex_file = open('bibtex.bib', 'r')\n",
    "bibtex_dict = BibTexParser(interpolate_strings=False).parse_file(bibtex_file).entries"
   ]
  },
  {
   "cell_type": "code",
   "execution_count": 11,
   "metadata": {},
   "outputs": [
    {
     "data": {
      "text/plain": [
       "[{'ENTRYTYPE': 'inproceedings',\n",
       "  'ID': 'Parsai:2017:DMS:3121245.3121249',\n",
       "  'acmid': '3121249',\n",
       "  'address': 'New York, NY, USA',\n",
       "  'author': 'Parsai, Ali and Demeyer, Serge',\n",
       "  'booktitle': 'Proceedings of the 8th ACM SIGSOFT International Workshop on Automated Software Testing',\n",
       "  'doi': '10.1145/3121245.3121249',\n",
       "  'isbn': '978-1-4503-5155-3',\n",
       "  'keywords': 'Dynamic Mutant Subsumption, Mutant Subsumption, Mutation Testing, Software Testing',\n",
       "  'location': 'Paderborn, Germany',\n",
       "  'numpages': '4',\n",
       "  'pages': '1--4',\n",
       "  'publisher': 'ACM',\n",
       "  'series': 'A-TEST 2017',\n",
       "  'title': 'Dynamic Mutant Subsumption Analysis Using LittleDarwin',\n",
       "  'url': 'http://doi.acm.org/10.1145/3121245.3121249',\n",
       "  'year': '2017'}]"
      ]
     },
     "execution_count": 11,
     "metadata": {},
     "output_type": "execute_result"
    }
   ],
   "source": [
    "bibtex_dict"
   ]
  },
  {
   "cell_type": "code",
   "execution_count": 12,
   "metadata": {},
   "outputs": [
    {
     "data": {
      "text/plain": [
       "({'doi': '10.1145/3121245.3121249',\n",
       "  'id': '3121249',\n",
       "  'title': 'Dynamic Mutant Subsumption Analysis Using LittleDarwin',\n",
       "  'url': 'https://dl.acm.org/citation.cfm?id=3121249&preflayout=flat',\n",
       "  'year': '2017'},\n",
       " [{'ENTRYTYPE': 'inproceedings',\n",
       "   'ID': 'Parsai:2017:DMS:3121245.3121249',\n",
       "   'acmid': '3121249',\n",
       "   'address': 'New York, NY, USA',\n",
       "   'author': 'Parsai, Ali and Demeyer, Serge',\n",
       "   'booktitle': 'Proceedings of the 8th ACM SIGSOFT International Workshop on Automated Software Testing',\n",
       "   'doi': '10.1145/3121245.3121249',\n",
       "   'isbn': '978-1-4503-5155-3',\n",
       "   'keywords': 'Dynamic Mutant Subsumption, Mutant Subsumption, Mutation Testing, Software Testing',\n",
       "   'location': 'Paderborn, Germany',\n",
       "   'numpages': '4',\n",
       "   'pages': '1--4',\n",
       "   'publisher': 'ACM',\n",
       "   'series': 'A-TEST 2017',\n",
       "   'title': 'Dynamic Mutant Subsumption Analysis Using LittleDarwin',\n",
       "   'url': 'http://doi.acm.org/10.1145/3121245.3121249',\n",
       "   'year': '2017'}])"
      ]
     },
     "execution_count": 12,
     "metadata": {},
     "output_type": "execute_result"
    }
   ],
   "source": [
    "article_data = {}\n",
    "\n",
    "article_data['id'] = article_id\n",
    "article_data['url'] = url\n",
    "article_data['title'] = bibtex_dict[0].get('title', None)\n",
    "article_data['doi'] = bibtex_dict[0].get('doi', None) \n",
    "article_data['year'] = bibtex_dict[0].get('year', None)\n",
    "\n",
    "article_data, bibtex_dict"
   ]
  },
  {
   "cell_type": "code",
   "execution_count": 13,
   "metadata": {},
   "outputs": [
    {
     "data": {
      "text/plain": [
       "{'authors': [{'name': 'Ali Parsai',\n",
       "   'url': 'https://dl.acm.org/author_page.cfm?id=99658715317&coll=DL&dl=ACM&trk=0'},\n",
       "  {'name': 'Serge Demeyer',\n",
       "   'url': 'https://dl.acm.org/author_page.cfm?id=81100645445&coll=DL&dl=ACM&trk=0'}],\n",
       " 'doi': '10.1145/3121245.3121249',\n",
       " 'id': '3121249',\n",
       " 'title': 'Dynamic Mutant Subsumption Analysis Using LittleDarwin',\n",
       " 'url': 'https://dl.acm.org/citation.cfm?id=3121249&preflayout=flat',\n",
       " 'year': '2017'}"
      ]
     },
     "execution_count": 13,
     "metadata": {},
     "output_type": "execute_result"
    }
   ],
   "source": [
    "divmain = soup.find('div', id='divmain')\n",
    "\n",
    "authors_tags = divmain.find_all('td', {'style': 'padding-right:3px;', 'valign': 'top',  'nowrap': 'nowrap'})\n",
    "authors = []\n",
    "\n",
    "for author_tag in authors_tags:\n",
    "    name = author_tag.text\n",
    "    authors.append({'name': name.strip(),\n",
    "                    'url': domain + author_tag.find('a')['href']})\n",
    "    \n",
    "article_data['authors'] = authors\n",
    "article_data"
   ]
  },
  {
   "cell_type": "code",
   "execution_count": 14,
   "metadata": {},
   "outputs": [
    {
     "data": {
      "text/plain": [
       "{'abstract': 'Many academic studies in the field of software testing rely on mutation testing to use as their comparison criteria. However, recent studies have shown that redundant mutants have a significant effect on the accuracy of their results. One solution to this problem is to use mutant subsumption to detect redundant mutants. Therefore, in order to facilitate research in this field, a mutation testing tool that is capable of detecting redundant mutants is needed. In this paper, we describe how we improved our tool, LittleDarwin, to fulfill this requirement.',\n",
       " 'authors': [{'name': 'Ali Parsai',\n",
       "   'url': 'https://dl.acm.org/author_page.cfm?id=99658715317&coll=DL&dl=ACM&trk=0'},\n",
       "  {'name': 'Serge Demeyer',\n",
       "   'url': 'https://dl.acm.org/author_page.cfm?id=81100645445&coll=DL&dl=ACM&trk=0'}],\n",
       " 'doi': '10.1145/3121245.3121249',\n",
       " 'id': '3121249',\n",
       " 'title': 'Dynamic Mutant Subsumption Analysis Using LittleDarwin',\n",
       " 'url': 'https://dl.acm.org/citation.cfm?id=3121249&preflayout=flat',\n",
       " 'year': '2017'}"
      ]
     },
     "execution_count": 14,
     "metadata": {},
     "output_type": "execute_result"
    }
   ],
   "source": [
    "layout = soup.find('div', {'class': 'layout'})\n",
    "flatbody = layout.find('div', {'class': 'flatbody'})\n",
    "\n",
    "abstract = flatbody.text.strip()\n",
    "article_data['abstract'] = abstract\n",
    "\n",
    "article_data"
   ]
  },
  {
   "cell_type": "code",
   "execution_count": 17,
   "metadata": {},
   "outputs": [
    {
     "data": {
      "text/plain": [
       "{'abstract': 'Many academic studies in the field of software testing rely on mutation testing to use as their comparison criteria. However, recent studies have shown that redundant mutants have a significant effect on the accuracy of their results. One solution to this problem is to use mutant subsumption to detect redundant mutants. Therefore, in order to facilitate research in this field, a mutation testing tool that is capable of detecting redundant mutants is needed. In this paper, we describe how we improved our tool, LittleDarwin, to fulfill this requirement.',\n",
       " 'authors': [{'name': 'Ali Parsai',\n",
       "   'url': 'https://dl.acm.org/author_page.cfm?id=99658715317&coll=DL&dl=ACM&trk=0'},\n",
       "  {'name': 'Serge Demeyer',\n",
       "   'url': 'https://dl.acm.org/author_page.cfm?id=81100645445&coll=DL&dl=ACM&trk=0'}],\n",
       " 'cited_by': [],\n",
       " 'doi': '10.1145/3121245.3121249',\n",
       " 'id': '3121249',\n",
       " 'title': 'Dynamic Mutant Subsumption Analysis Using LittleDarwin',\n",
       " 'url': 'https://dl.acm.org/citation.cfm?id=3121249&preflayout=flat',\n",
       " 'venue': {'name': 'FSE', 'url': 'https://dl.acm.org/event.cfm?id=RE201'},\n",
       " 'year': '2017'}"
      ]
     },
     "execution_count": 17,
     "metadata": {},
     "output_type": "execute_result"
    }
   ],
   "source": [
    "td = soup.find('td', string='Conference')\n",
    "\n",
    "if td:\n",
    "    td = td.nextSibling.nextSibling\n",
    "    venue = td.strong.text.strip()\n",
    "    url_conference = td.a['href']\n",
    "else:\n",
    "    venue = None\n",
    "    url_conference = 'None'\n",
    "\n",
    "article_data['venue'] = {'name': venue,\n",
    "                        'url': domain + url_conference}\n",
    "\n",
    "article_data"
   ]
  },
  {
   "cell_type": "code",
   "execution_count": 16,
   "metadata": {},
   "outputs": [
    {
     "data": {
      "text/plain": [
       "{'abstract': 'Many academic studies in the field of software testing rely on mutation testing to use as their comparison criteria. However, recent studies have shown that redundant mutants have a significant effect on the accuracy of their results. One solution to this problem is to use mutant subsumption to detect redundant mutants. Therefore, in order to facilitate research in this field, a mutation testing tool that is capable of detecting redundant mutants is needed. In this paper, we describe how we improved our tool, LittleDarwin, to fulfill this requirement.',\n",
       " 'authors': [{'name': 'Ali Parsai',\n",
       "   'url': 'https://dl.acm.org/author_page.cfm?id=99658715317&coll=DL&dl=ACM&trk=0'},\n",
       "  {'name': 'Serge Demeyer',\n",
       "   'url': 'https://dl.acm.org/author_page.cfm?id=81100645445&coll=DL&dl=ACM&trk=0'}],\n",
       " 'cited_by': [],\n",
       " 'doi': '10.1145/3121245.3121249',\n",
       " 'id': '3121249',\n",
       " 'title': 'Dynamic Mutant Subsumption Analysis Using LittleDarwin',\n",
       " 'url': 'https://dl.acm.org/citation.cfm?id=3121249&preflayout=flat',\n",
       " 'venue': {'name': 'FSE', 'url': 'https://dl.acm.org/event.cfm?id=RE201'},\n",
       " 'year': '2017'}"
      ]
     },
     "execution_count": 16,
     "metadata": {},
     "output_type": "execute_result"
    }
   ],
   "source": [
    "flatbody = soup.find_all('div', {'class': 'flatbody'})\n",
    "cited_by = []\n",
    "for a in flatbody[3].find_all('a'):\n",
    "    cited_by.append(a['href'].split('=')[-1])\n",
    "    \n",
    "article_data['cited_by'] = cited_by\n",
    "\n",
    "article_data"
   ]
  }
 ],
 "metadata": {
  "kernelspec": {
   "display_name": "Python 3",
   "language": "python",
   "name": "python3"
  },
  "language_info": {
   "codemirror_mode": {
    "name": "ipython",
    "version": 3
   },
   "file_extension": ".py",
   "mimetype": "text/x-python",
   "name": "python",
   "nbconvert_exporter": "python",
   "pygments_lexer": "ipython3",
   "version": "3.6.4"
  }
 },
 "nbformat": 4,
 "nbformat_minor": 2
}
