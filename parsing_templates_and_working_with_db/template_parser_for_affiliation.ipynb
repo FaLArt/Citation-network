{
 "cells": [
  {
   "cell_type": "code",
   "execution_count": 12,
   "metadata": {},
   "outputs": [],
   "source": [
    "import bs4, requests, re\n",
    "from bibtexparser.bparser import BibTexParser\n",
    "\n",
    "from db_dumps_and_entities.db_entities_and_session import db"
   ]
  },
  {
   "cell_type": "code",
   "execution_count": 2,
   "metadata": {},
   "outputs": [
    {
     "name": "stdout",
     "output_type": "stream",
     "text": [
      "https://dl.acm.org/citation.cfm?id=1882349&preflayout=flat\n"
     ]
    }
   ],
   "source": [
    "mode_layout = 'flat'\n",
    "article_id = '1882349'\n",
    "headers = {'User-Agent': 'Mozilla/5.0 (Macintosh; Intel Mac OS X 10.9; rv:45.0) Gecko/20100101 Firefox/45.0'}\n",
    "\n",
    "domain = 'https://dl.acm.org/'\n",
    "article = 'citation.cfm?id={0}&'.format(article_id)\n",
    "parametrs = 'preflayout={0}'.format(mode_layout)\n",
    "url = domain + article + parametrs\n",
    "\n",
    "print(url, sep='\\n')"
   ]
  },
  {
   "cell_type": "code",
   "execution_count": 16,
   "metadata": {},
   "outputs": [
    {
     "name": "stdout",
     "output_type": "stream",
     "text": [
      "Working with article with ID 1808921\n",
      "Working with article with ID 1808922\n",
      "Working with article with ID 1808923\n",
      "Working with article with ID 1808924\n",
      "Working with article with ID 1808925\n",
      "Working with article with ID 1808926\n",
      "Working with article with ID 1808928\n",
      "Working with article with ID 1808929\n",
      "Working with article with ID 1808931\n",
      "Working with article with ID 1808932\n",
      "Working with article with ID 1808933\n",
      "Working with article with ID 1808934\n",
      "Working with article with ID 1808935\n",
      "Working with article with ID 1808936\n",
      "Working with article with ID 1858265\n",
      "Working with article with ID 1858266\n",
      "Working with article with ID 1858267\n",
      "Working with article with ID 1858269\n",
      "Working with article with ID 1858270\n",
      "Working with article with ID 1858271\n",
      "Working with article with ID 1882296\n",
      "Working with article with ID 1882297\n",
      "Working with article with ID 1882298\n",
      "Working with article with ID 1882300\n",
      "Working with article with ID 1882301\n",
      "Working with article with ID 1882302\n",
      "Working with article with ID 1882304\n",
      "Working with article with ID 1882305\n",
      "Working with article with ID 1882306\n",
      "Working with article with ID 1882308\n",
      "Working with article with ID 1882311\n",
      "Working with article with ID 1882312\n",
      "Working with article with ID 1882313\n",
      "Working with article with ID 1882315\n",
      "Working with article with ID 1882316\n",
      "Working with article with ID 1882317\n",
      "Working with article with ID 1882319\n",
      "Working with article with ID 1882320\n",
      "Working with article with ID 1882322\n",
      "Working with article with ID 1882323\n",
      "Working with article with ID 1882324\n",
      "Working with article with ID 1882326\n",
      "Working with article with ID 1882327\n",
      "Working with article with ID 1882328\n",
      "Working with article with ID 1882330\n",
      "Working with article with ID 1882331\n",
      "Working with article with ID 1882332\n",
      "Working with article with ID 1882334\n",
      "Working with article with ID 1882335\n",
      "Working with article with ID 1882336\n"
     ]
    }
   ],
   "source": [
    "result = []\n",
    "\n",
    "for article in db.Article.select()[:50]:\n",
    "    \n",
    "    article_id = article.article_id\n",
    "    mode_layout = 'flat'\n",
    "    headers = {'User-Agent': 'Mozilla/5.0 (Macintosh; Intel Mac OS X 10.9; rv:45.0) Gecko/20100101 Firefox/45.0'}\n",
    "    \n",
    "    print('Working with article with ID {0}'.format(article_id))\n",
    "    domain = 'https://dl.acm.org/'\n",
    "    article = 'citation.cfm?id={0}&'.format(article_id)\n",
    "    parametrs = 'preflayout={0}'.format(mode_layout)\n",
    "    url = domain + article + parametrs\n",
    "    response = requests.get(url=url, headers=headers)\n",
    "    soup = bs4.BeautifulSoup(response.text, 'lxml')\n",
    "    divmain = soup.find('div', id='divmain')\n",
    "    urls_filtered = divmain.find_all('a', href=re.compile('inst_page.cfm\\?id=*'))\n",
    "    affiliation_data = [url['href'] for url in urls_filtered]\n",
    "    \n",
    "    if len(list(set(affiliation_data))) > 1:\n",
    "        result.append(article_id)"
   ]
  },
  {
   "cell_type": "code",
   "execution_count": 17,
   "metadata": {},
   "outputs": [
    {
     "data": {
      "text/plain": [
       "[1808921,\n",
       " 1808925,\n",
       " 1808929,\n",
       " 1808933,\n",
       " 1858266,\n",
       " 1858269,\n",
       " 1858270,\n",
       " 1882297,\n",
       " 1882298,\n",
       " 1882300,\n",
       " 1882304,\n",
       " 1882305,\n",
       " 1882306,\n",
       " 1882308,\n",
       " 1882313,\n",
       " 1882317,\n",
       " 1882322,\n",
       " 1882330,\n",
       " 1882331,\n",
       " 1882332,\n",
       " 1882334]"
      ]
     },
     "execution_count": 17,
     "metadata": {},
     "output_type": "execute_result"
    }
   ],
   "source": [
    "result"
   ]
  },
  {
   "cell_type": "code",
   "execution_count": 11,
   "metadata": {},
   "outputs": [
    {
     "data": {
      "text/plain": [
       "['inst_page.cfm?id=60000745']"
      ]
     },
     "execution_count": 11,
     "metadata": {},
     "output_type": "execute_result"
    }
   ],
   "source": [
    "affiliation_data = []\n",
    "\n",
    "divmain = soup.find('div', id='divmain')\n",
    "urls_filtered = divmain.find_all('a', href=re.compile('inst_page.cfm\\?id=*'))\n",
    "affiliation_data = [url['href'] for url in urls_filtered]\n",
    "\n"
   ]
  }
 ],
 "metadata": {
  "kernelspec": {
   "display_name": "Python 3",
   "language": "python",
   "name": "python3"
  },
  "language_info": {
   "codemirror_mode": {
    "name": "ipython",
    "version": 3
   },
   "file_extension": ".py",
   "mimetype": "text/x-python",
   "name": "python",
   "nbconvert_exporter": "python",
   "pygments_lexer": "ipython3",
   "version": "3.6.4"
  }
 },
 "nbformat": 4,
 "nbformat_minor": 2
}
