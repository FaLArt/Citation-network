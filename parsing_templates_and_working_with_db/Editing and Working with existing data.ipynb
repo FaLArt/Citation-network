{
 "cells": [
  {
   "cell_type": "code",
   "execution_count": 8,
   "metadata": {},
   "outputs": [],
   "source": [
    "from db_dumps_and_entities.db_entities_and_session import db\n",
    "import re"
   ]
  },
  {
   "cell_type": "code",
   "execution_count": 9,
   "metadata": {},
   "outputs": [],
   "source": [
    "for article in db.Article.select():\n",
    "    length = len(article.article__citation)\n",
    "    if length == 0:\n",
    "        article.delete()\n",
    "        db.commit()\n",
    "        print('Article with ID {0} deleted successfully'.format(article.article_id))"
   ]
  },
  {
   "cell_type": "code",
   "execution_count": 3,
   "metadata": {},
   "outputs": [
    {
     "data": {
      "text/plain": [
       "0"
      ]
     },
     "execution_count": 3,
     "metadata": {},
     "output_type": "execute_result"
    }
   ],
   "source": [
    "counter = 0\n",
    "\n",
    "for article in db.Article.select():\n",
    "    if article.year < 2010:\n",
    "        article.delete()\n",
    "        db.commit()\n",
    "        counter += 1\n",
    "        \n",
    "counter"
   ]
  },
  {
   "cell_type": "code",
   "execution_count": 4,
   "metadata": {},
   "outputs": [],
   "source": [
    "for author in db.Author.select():\n",
    "    if len(author.author__author_article) == 0:\n",
    "        author.delete()\n",
    "        db.commit()\n",
    "        print('Author with ID {0} deleted succesfully'.format(author.author_id))"
   ]
  },
  {
   "cell_type": "code",
   "execution_count": 10,
   "metadata": {},
   "outputs": [
    {
     "name": "stdout",
     "output_type": "stream",
     "text": [
      "Glêdson Elias\n",
      "Bruno Luna Ribeiro\n",
      "Vinicius Souza dos Santos\n"
     ]
    }
   ],
   "source": [
    "article = db.Article[1808928]\n",
    "for aa in article.article__author_article:\n",
    "    print(aa.author_id.name)"
   ]
  },
  {
   "cell_type": "code",
   "execution_count": 25,
   "metadata": {},
   "outputs": [],
   "source": [
    "for article in db.Article.select():\n",
    "    article.abstract = re.sub('\\\"', '', article.abstract)\n",
    "    db.commit()"
   ]
  }
 ],
 "metadata": {
  "kernelspec": {
   "display_name": "Python 3",
   "language": "python",
   "name": "python3"
  },
  "language_info": {
   "codemirror_mode": {
    "name": "ipython",
    "version": 3
   },
   "file_extension": ".py",
   "mimetype": "text/x-python",
   "name": "python",
   "nbconvert_exporter": "python",
   "pygments_lexer": "ipython3",
   "version": "3.6.4"
  }
 },
 "nbformat": 4,
 "nbformat_minor": 2
}
